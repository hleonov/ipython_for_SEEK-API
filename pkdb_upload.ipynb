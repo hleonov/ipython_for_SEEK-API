{
 "cells": [
  {
   "cell_type": "markdown",
   "metadata": {},
   "source": [
    "# Pharmacokinetics Database in SEEK\n",
    "Upload of file assets to seek via the write/read API. Experimental data sets have been digitized from literature. The respective files are now made available via LiSyM-SEEK.\n",
    "\n",
    "<img src=\"./data_extraction.png\" width=\"500\"/>\n",
    "\n",
    "Proof-of-principle by **Matthias König, Hadas Leonov & Wolfgang Müller** "
   ]
  },
  {
   "cell_type": "code",
   "execution_count": 38,
   "metadata": {},
   "outputs": [],
   "source": [
    "# important ids (seekbeta.lisym.org)\n",
    "REPLACEMENTS = {\n",
    "    'KOENIG_ID': \"17\",\n",
    "    'PROJECT_ID': \"10\",  # MM-PLF\n",
    "    'INVESTIGATION_ID': \"17\",\n",
    "    'HOMO_SAPIENS': \"950657990\",\n",
    "}"
   ]
  },
  {
   "cell_type": "code",
   "execution_count": 39,
   "metadata": {
    "collapsed": false
   },
   "outputs": [],
   "source": [
    "import requests\n",
    "import json\n",
    "import string\n",
    "from pprint import pprint\n",
    "# base_url = 'http://localhost:3000/'\n",
    "base_url = 'https://seekbeta.lisym.org/'\n",
    "\n",
    "API_TOKEN = open(\"./token\").readline().strip() #\"user:password\" encoded in base64\n",
    "headers = {\"Authorization\": \"Basic %s\" %API_TOKEN,\n",
    "           \"Content-type\": \"application/vnd.api+json\",\n",
    "           \"Accept\": \"application/vnd.api+json\"}\n",
    "file_upload_headers = headers.copy()\n",
    "file_upload_headers.pop('Content-type');"
   ]
  },
  {
   "cell_type": "code",
   "execution_count": 84,
   "metadata": {
    "collapsed": true
   },
   "outputs": [],
   "source": [
    "def print_response(response_text, info=False):\n",
    "    if (r.ok):\n",
    "        obj = json.loads(response_text)\n",
    "        try: \n",
    "            seek_id = obj['data']['id']\n",
    "        except:\n",
    "            seek_id = '-'\n",
    "        print(\"Returned successfully posted object: <{}>\".format(seek_id))\n",
    "        if info:\n",
    "            pprint(obj)\n",
    "        return obj\n",
    "    else:\n",
    "        print(\"Error: \", r.text)\n",
    "    return None"
   ]
  },
  {
   "cell_type": "code",
   "execution_count": 41,
   "metadata": {
    "collapsed": false
   },
   "outputs": [],
   "source": [
    "def init_json_data(file, replacements=REPLACEMENTS):\n",
    "    json_format = json.load(open(file))\n",
    "    json_data = json.dumps(json_format)\n",
    "    for key, value in replacements.items():\n",
    "        json_data = str.replace(json_data, key, value)\n",
    "    return json_data"
   ]
  },
  {
   "cell_type": "markdown",
   "metadata": {},
   "source": [
    "### Post caffeine study\n",
    "The investigation and project already exist and can be referenced via their respective ids. Now we create a new study for the caffeine data."
   ]
  },
  {
   "cell_type": "code",
   "execution_count": 42,
   "metadata": {
    "collapsed": false
   },
   "outputs": [
    {
     "name": "stdout",
     "output_type": "stream",
     "text": [
      "--------------------------------------------------------------------------------\n",
      "{'data': {'attributes': {'description': 'Pharmacokinetics data set for '\n",
      "                                        'caffeine',\n",
      "                         'experimentalists': '',\n",
      "                         'other_creators': '',\n",
      "                         'person_responsible_id': '17',\n",
      "                         'policy': {'access': 'view',\n",
      "                                    'permissions': [{'access': 'download',\n",
      "                                                     'resource_id': '10',\n",
      "                                                     'resource_type': 'projects'}]},\n",
      "                         'title': 'PKDB Caffeine Study'},\n",
      "          'relationships': {'creators': {'data': [{'id': '17',\n",
      "                                                   'type': 'people'}]},\n",
      "                            'investigation': {'data': {'id': '17',\n",
      "                                                       'type': 'investigations'}},\n",
      "                            'publications': {'data': []}},\n",
      "          'type': 'studies'}}\n",
      "--------------------------------------------------------------------------------\n",
      "Returned successfully posted object:\n",
      " {'jsonapi': {'version': '1.0'}, 'data': {'id': '47', 'attributes': {'policy': {'permissions': [{'resource_id': '10', 'resource_type': 'projects', 'access': 'download'}], 'access': 'view'}, 'description': 'Pharmacokinetics data set for caffeine', 'other_creators': None, 'experimentalists': None, 'person_responsible_id': '17', 'title': 'PKDB Caffeine Study'}, 'meta': {'base_url': 'http://seek.lisym.org', 'api_version': '0.1', 'modified': '2018-04-30T09:35:49.366Z', 'created': '2018-04-30T09:35:49.229Z', 'uuid': 'ca522a80-2e87-0136-ce3e-0242ac120005'}, 'links': {'self': '/studies/47'}, 'type': 'studies', 'relationships': {'projects': {'data': [{'id': '10', 'type': 'projects'}]}, 'assays': {'data': []}, 'publications': {'data': []}, 'people': {'data': [{'id': '17', 'type': 'people'}]}, 'submitter': {'data': [{'id': '17', 'type': 'people'}]}, 'documents': {'data': []}, 'data_files': {'data': []}, 'models': {'data': []}, 'investigation': {'data': {'id': '17', 'type': 'investigations'}}, 'sops': {'data': []}, 'creators': {'data': [{'id': '17', 'type': 'people'}]}}}}\n"
     ]
    }
   ],
   "source": [
    "study_file = \"./pkdb/json/caffeine_study.json\"\n",
    "url = base_url + \"studies\"\n",
    "json_data = init_json_data(study_file, replacements=REPLACEMENTS)\n",
    "# pprint(json_data)\n",
    "print('-'*80)\n",
    "pprint(json.loads(json_data))\n",
    "print('-'*80)\n",
    "r = requests.post(url, headers=headers, data=json_data)\n",
    "study = print_response(r.text)"
   ]
  },
  {
   "cell_type": "code",
   "execution_count": 43,
   "metadata": {},
   "outputs": [],
   "source": [
    "# store study id for assays\n",
    "REPLACEMENTS['STUDY_ID'] = study['data']['id']"
   ]
  },
  {
   "cell_type": "markdown",
   "metadata": {},
   "source": [
    "### Experimental assays & Data files\n",
    "Every digitized publication is handled as a separate experimental assay.\n",
    "\n",
    "The corresponding data files (CSV data) are associated as data file to the assay."
   ]
  },
  {
   "cell_type": "code",
   "execution_count": 66,
   "metadata": {},
   "outputs": [
    {
     "name": "stdout",
     "output_type": "stream",
     "text": [
      "{'Akinyinka2000',\n",
      " 'Amchin1999',\n",
      " 'Blanchard1983a',\n",
      " 'Haller2002',\n",
      " 'Healy1991',\n",
      " 'Hetzler1990',\n",
      " 'Jeppesen1996',\n",
      " 'Kakuda2014',\n",
      " 'Kaplan1997',\n",
      " 'Magnusson2008',\n",
      " 'Oh2012',\n",
      " 'Perera2011',\n",
      " 'Spigset1999a',\n",
      " 'Tanaka2014'}\n"
     ]
    }
   ],
   "source": [
    "from os import listdir\n",
    "from os.path import isfile, join\n",
    "data_dir = './pkdb/files/data'\n",
    "files = [f for f in listdir(data_dir) if isfile(join(data_dir, f))]\n",
    "author_ids = set([fname[:-4] for fname in files if fname.endswith('.csv')])\n",
    "pprint(author_ids)"
   ]
  },
  {
   "cell_type": "code",
   "execution_count": 83,
   "metadata": {
    "collapsed": false
   },
   "outputs": [
    {
     "name": "stdout",
     "output_type": "stream",
     "text": [
      "Returned successfully posted object.\n",
      "Returned successfully posted object.\n",
      "Returned successfully posted object.\n",
      "Returned successfully posted object.\n",
      "Returned successfully posted object.\n",
      "Returned successfully posted object.\n",
      "Returned successfully posted object.\n",
      "Returned successfully posted object.\n",
      "Returned successfully posted object.\n",
      "Returned successfully posted object.\n",
      "Returned successfully posted object.\n",
      "Returned successfully posted object.\n",
      "Returned successfully posted object.\n",
      "Returned successfully posted object.\n"
     ]
    }
   ],
   "source": [
    "# create all\n",
    "exp_assays = {}\n",
    "for author_id in author_ids:\n",
    "    REPLACEMENTS['AUTHOR_ID'] = author_id \n",
    "    REPLACEMENTS['AUTHOR_DESCRIPTION'] = '{} Description'.format(author_id)\n",
    "\n",
    "    assay_file = \"./pkdb/json/caffeine_exp_assay.json\"\n",
    "    url = base_url + \"assays\"\n",
    "    json_data = init_json_data(assay_file)\n",
    "    r = requests.post(url, headers=headers, data=json_data)\n",
    "    assay = print_response(r.text)\n",
    "    exp_assays[author_id] = assay"
   ]
  },
  {
   "cell_type": "code",
   "execution_count": 89,
   "metadata": {
    "collapsed": false
   },
   "outputs": [
    {
     "name": "stdout",
     "output_type": "stream",
     "text": [
      "Returned successfully posted object: <390>\n",
      "http://seek.lisym.org/data_files/390/content_blobs/825\n",
      "Response Status: <Response [404]>\n",
      "--------------------------------------------------------------------------------\n",
      "Returned successfully posted object: <391>\n",
      "http://seek.lisym.org/data_files/391/content_blobs/826\n",
      "Response Status: <Response [404]>\n",
      "--------------------------------------------------------------------------------\n",
      "Returned successfully posted object: <392>\n",
      "http://seek.lisym.org/data_files/392/content_blobs/827\n",
      "Response Status: <Response [404]>\n",
      "--------------------------------------------------------------------------------\n",
      "Returned successfully posted object: <393>\n",
      "http://seek.lisym.org/data_files/393/content_blobs/828\n",
      "Response Status: <Response [404]>\n",
      "--------------------------------------------------------------------------------\n",
      "Returned successfully posted object: <394>\n",
      "http://seek.lisym.org/data_files/394/content_blobs/829\n",
      "Response Status: <Response [404]>\n",
      "--------------------------------------------------------------------------------\n",
      "Returned successfully posted object: <395>\n",
      "http://seek.lisym.org/data_files/395/content_blobs/830\n",
      "Response Status: <Response [404]>\n",
      "--------------------------------------------------------------------------------\n",
      "Returned successfully posted object: <396>\n",
      "http://seek.lisym.org/data_files/396/content_blobs/831\n",
      "Response Status: <Response [404]>\n",
      "--------------------------------------------------------------------------------\n",
      "Returned successfully posted object: <397>\n",
      "http://seek.lisym.org/data_files/397/content_blobs/832\n",
      "Response Status: <Response [404]>\n",
      "--------------------------------------------------------------------------------\n",
      "Returned successfully posted object: <398>\n",
      "http://seek.lisym.org/data_files/398/content_blobs/833\n",
      "Response Status: <Response [404]>\n",
      "--------------------------------------------------------------------------------\n",
      "Returned successfully posted object: <399>\n",
      "http://seek.lisym.org/data_files/399/content_blobs/834\n",
      "Response Status: <Response [404]>\n",
      "--------------------------------------------------------------------------------\n",
      "Returned successfully posted object: <400>\n",
      "http://seek.lisym.org/data_files/400/content_blobs/835\n",
      "Response Status: <Response [404]>\n",
      "--------------------------------------------------------------------------------\n",
      "Returned successfully posted object: <401>\n",
      "http://seek.lisym.org/data_files/401/content_blobs/836\n",
      "Response Status: <Response [404]>\n",
      "--------------------------------------------------------------------------------\n",
      "Returned successfully posted object: <402>\n",
      "http://seek.lisym.org/data_files/402/content_blobs/837\n",
      "Response Status: <Response [404]>\n",
      "--------------------------------------------------------------------------------\n",
      "Returned successfully posted object: <403>\n",
      "http://seek.lisym.org/data_files/403/content_blobs/838\n",
      "Response Status: <Response [404]>\n",
      "--------------------------------------------------------------------------------\n"
     ]
    }
   ],
   "source": [
    "# -------------\n",
    "# CSV\n",
    "# -------------\n",
    "csv_datafiles = {}\n",
    "for author_id in author_ids:\n",
    "    # get the correct assay\n",
    "    assay = exp_assays[author_id]\n",
    "\n",
    "    REPLACEMENTS['ASSAY_ID'] = assay['data']['id']\n",
    "    REPLACEMENTS['AUTHOR_ID'] = author_id \n",
    "    REPLACEMENTS['AUTHOR_DESCRIPTION'] = '{} Description'.format(author_id)\n",
    "    REPLACEMENTS['TITLE'] = \"CSV (author_id)\".format(author_id)\n",
    "\n",
    "    # create the metadata\n",
    "    REPLACEMENTS['CONTENT_TYPE'] = \"text/csv\"\n",
    "    df_file = \"./pkdb/json/caffeine_data_file.json\"\n",
    "    url = base_url + \"data_files\"\n",
    "    json_data = init_json_data(df_file)\n",
    "    r = requests.post(url, headers=headers, data=json_data)\n",
    "    datafile = print_response(r.text)\n",
    "    csv_datafiles[author_id] = datafile\n",
    "\n",
    "    # second, add the file (PUT)\n",
    "    # THIS IS NOT WORKING, GETTING 404s\n",
    "    \n",
    "\n",
    "    filepath = './pkdb/files/data/{}.csv'.format(author_id)\n",
    "    url = datafile['data']['attributes']['content_blobs'][0]['link']  # content_blobs array size = 1\n",
    "    print(url)\n",
    "    r = requests.put(url, headers=file_upload_headers, files={\"file\": open(filepath, 'rb')})\n",
    "    print(\"Response Status:\", r)\n",
    "    print('-'*80)"
   ]
  },
  {
   "cell_type": "code",
   "execution_count": 90,
   "metadata": {},
   "outputs": [
    {
     "name": "stdout",
     "output_type": "stream",
     "text": [
      "Returned successfully posted object: <404>\n",
      "http://seek.lisym.org/data_files/404/content_blobs/839\n",
      "Response Status: <Response [404]>\n",
      "--------------------------------------------------------------------------------\n",
      "Returned successfully posted object: <405>\n",
      "http://seek.lisym.org/data_files/405/content_blobs/840\n",
      "Response Status: <Response [404]>\n",
      "--------------------------------------------------------------------------------\n",
      "Returned successfully posted object: <406>\n",
      "http://seek.lisym.org/data_files/406/content_blobs/841\n",
      "Response Status: <Response [404]>\n",
      "--------------------------------------------------------------------------------\n",
      "Returned successfully posted object: <407>\n",
      "http://seek.lisym.org/data_files/407/content_blobs/842\n",
      "Response Status: <Response [404]>\n",
      "--------------------------------------------------------------------------------\n",
      "Returned successfully posted object: <408>\n",
      "http://seek.lisym.org/data_files/408/content_blobs/843\n",
      "Response Status: <Response [404]>\n",
      "--------------------------------------------------------------------------------\n",
      "Returned successfully posted object: <409>\n",
      "http://seek.lisym.org/data_files/409/content_blobs/844\n",
      "Response Status: <Response [404]>\n",
      "--------------------------------------------------------------------------------\n",
      "Returned successfully posted object: <410>\n",
      "http://seek.lisym.org/data_files/410/content_blobs/845\n",
      "Response Status: <Response [404]>\n",
      "--------------------------------------------------------------------------------\n",
      "Returned successfully posted object: <411>\n",
      "http://seek.lisym.org/data_files/411/content_blobs/846\n",
      "Response Status: <Response [404]>\n",
      "--------------------------------------------------------------------------------\n",
      "Returned successfully posted object: <412>\n",
      "http://seek.lisym.org/data_files/412/content_blobs/847\n",
      "Response Status: <Response [404]>\n",
      "--------------------------------------------------------------------------------\n",
      "Returned successfully posted object: <413>\n",
      "http://seek.lisym.org/data_files/413/content_blobs/848\n",
      "Response Status: <Response [404]>\n",
      "--------------------------------------------------------------------------------\n",
      "Returned successfully posted object: <414>\n",
      "http://seek.lisym.org/data_files/414/content_blobs/849\n",
      "Response Status: <Response [404]>\n",
      "--------------------------------------------------------------------------------\n",
      "Returned successfully posted object: <415>\n",
      "http://seek.lisym.org/data_files/415/content_blobs/850\n",
      "Response Status: <Response [404]>\n",
      "--------------------------------------------------------------------------------\n",
      "Returned successfully posted object: <416>\n",
      "http://seek.lisym.org/data_files/416/content_blobs/851\n",
      "Response Status: <Response [404]>\n",
      "--------------------------------------------------------------------------------\n",
      "Returned successfully posted object: <417>\n",
      "http://seek.lisym.org/data_files/417/content_blobs/852\n",
      "Response Status: <Response [404]>\n",
      "--------------------------------------------------------------------------------\n"
     ]
    }
   ],
   "source": [
    "# -------------\n",
    "# PNG\n",
    "# -------------\n",
    "png_datafiles = {}\n",
    "for author_id in author_ids:\n",
    "    # get the correct assay\n",
    "    assay = exp_assays[author_id]\n",
    "\n",
    "    REPLACEMENTS['ASSAY_ID'] = assay['data']['id']\n",
    "    REPLACEMENTS['AUTHOR_ID'] = author_id \n",
    "    REPLACEMENTS['AUTHOR_DESCRIPTION'] = '{} Description'.format(author_id)\n",
    "    REPLACEMENTS['TITLE'] = \"PNG ({})\".format(author_id)\n",
    "\n",
    "    # create the metadata\n",
    "    REPLACEMENTS['CONTENT_TYPE'] = \"application/png\"\n",
    "    df_file = \"./pkdb/json/caffeine_data_file.json\"\n",
    "    url = base_url + \"data_files\"\n",
    "    json_data = init_json_data(df_file)\n",
    "    r = requests.post(url, headers=headers, data=json_data)\n",
    "    datafile = print_response(r.text)\n",
    "    png_datafiles[author_id] = datafile\n",
    "\n",
    "    # second, add the file (PUT)\n",
    "    # THIS IS NOT WORKING, GETTING 404s\n",
    "    filepath = './pkdb/files/data/{}.png'.format(author_id)\n",
    "    url = datafile['data']['attributes']['content_blobs'][0]['link']  # content_blobs array size = 1\n",
    "    print(url)\n",
    "    r = requests.put(url, headers=file_upload_headers, files={\"file\": open(filepath, 'rb')})\n",
    "    print(\"Response Status:\", r)\n",
    "    print('-'*80)"
   ]
  },
  {
   "cell_type": "markdown",
   "metadata": {},
   "source": [
    "# Cleanup SEEK"
   ]
  },
  {
   "cell_type": "code",
   "execution_count": 88,
   "metadata": {},
   "outputs": [
    {
     "name": "stdout",
     "output_type": "stream",
     "text": [
      "Returned successfully posted object: <->\n",
      "Returned successfully posted object: <->\n",
      "Returned successfully posted object: <->\n",
      "Returned successfully posted object: <->\n",
      "Returned successfully posted object: <->\n",
      "Returned successfully posted object: <->\n",
      "Returned successfully posted object: <->\n",
      "Returned successfully posted object: <->\n",
      "Returned successfully posted object: <->\n",
      "Returned successfully posted object: <->\n",
      "Returned successfully posted object: <->\n",
      "Returned successfully posted object: <->\n",
      "Returned successfully posted object: <->\n",
      "Returned successfully posted object: <->\n",
      "Returned successfully posted object: <->\n",
      "Returned successfully posted object: <->\n",
      "Returned successfully posted object: <->\n",
      "Returned successfully posted object: <->\n",
      "Returned successfully posted object: <->\n",
      "Returned successfully posted object: <->\n",
      "Returned successfully posted object: <->\n",
      "Returned successfully posted object: <->\n",
      "Returned successfully posted object: <->\n",
      "Returned successfully posted object: <->\n",
      "Returned successfully posted object: <->\n",
      "Returned successfully posted object: <->\n",
      "Returned successfully posted object: <->\n",
      "Returned successfully posted object: <->\n"
     ]
    }
   ],
   "source": [
    "# delete datafiles (csv)\n",
    "for datafile in csv_datafiles.values():\n",
    "    datafile_id = datafile['data']['id']\n",
    "    url = base_url + \"data_files/{}.json\".format(datafile_id)\n",
    "    r = requests.delete(url, headers=headers)\n",
    "    print_response(r.text)\n",
    "    \n",
    "# delete datafiles (png)\n",
    "for datafile in png_datafiles.values():\n",
    "    datafile_id = datafile['data']['id']\n",
    "    url = base_url + \"data_files/{}.json\".format(datafile_id)\n",
    "    r = requests.delete(url, headers=headers)\n",
    "    print_response(r.text)"
   ]
  },
  {
   "cell_type": "code",
   "execution_count": 82,
   "metadata": {},
   "outputs": [
    {
     "name": "stdout",
     "output_type": "stream",
     "text": [
      "https://seekbeta.lisym.org/assays/90.json\n",
      "Returned successfully posted object.\n",
      "https://seekbeta.lisym.org/assays/91.json\n",
      "Returned successfully posted object.\n",
      "https://seekbeta.lisym.org/assays/92.json\n",
      "Returned successfully posted object.\n",
      "https://seekbeta.lisym.org/assays/93.json\n",
      "Returned successfully posted object.\n",
      "https://seekbeta.lisym.org/assays/94.json\n",
      "Returned successfully posted object.\n",
      "https://seekbeta.lisym.org/assays/95.json\n",
      "Returned successfully posted object.\n",
      "https://seekbeta.lisym.org/assays/96.json\n",
      "Returned successfully posted object.\n",
      "https://seekbeta.lisym.org/assays/97.json\n",
      "Returned successfully posted object.\n",
      "https://seekbeta.lisym.org/assays/98.json\n",
      "Returned successfully posted object.\n",
      "https://seekbeta.lisym.org/assays/99.json\n",
      "Returned successfully posted object.\n",
      "https://seekbeta.lisym.org/assays/100.json\n",
      "Returned successfully posted object.\n",
      "https://seekbeta.lisym.org/assays/101.json\n",
      "Returned successfully posted object.\n",
      "https://seekbeta.lisym.org/assays/102.json\n",
      "Returned successfully posted object.\n",
      "https://seekbeta.lisym.org/assays/103.json\n",
      "Returned successfully posted object.\n"
     ]
    }
   ],
   "source": [
    "# delete experimental assays\n",
    "for assay in exp_assays.values():\n",
    "    assay_id = assay['data']['id']\n",
    "    url = base_url + \"assays/{}.json\".format(assay_id)\n",
    "    print(url)\n",
    "    r = requests.delete(url, headers=headers)\n",
    "    print_response(r.text)  "
   ]
  },
  {
   "cell_type": "code",
   "execution_count": null,
   "metadata": {},
   "outputs": [],
   "source": [
    "# delete study\n",
    "study_id = study['data']['id']\n",
    "url = base_url + \"studies/{}.json\".format(study_id)\n",
    "print(url)\n",
    "r = requests.delete(url, headers=headers)\n",
    "print_response(r.text)"
   ]
  }
 ],
 "metadata": {
  "kernelspec": {
   "display_name": "seek",
   "language": "python",
   "name": "seek"
  },
  "language_info": {
   "codemirror_mode": {
    "name": "ipython",
    "version": 3
   },
   "file_extension": ".py",
   "mimetype": "text/x-python",
   "name": "python",
   "nbconvert_exporter": "python",
   "pygments_lexer": "ipython3",
   "version": "3.5.2"
  }
 },
 "nbformat": 4,
 "nbformat_minor": 2
}
