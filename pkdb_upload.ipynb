{
 "cells": [
  {
   "cell_type": "markdown",
   "metadata": {},
   "source": [
    "# Pharmacokinetics Database in SEEK\n",
    "Upload of file assets to seek via the write/read API. Experimental data sets have been digitized from literature. The respective files are now made available via LiSyM-SEEK.\n",
    "\n",
    "<img src=\"./data_extraction.png\" width=\"500\"/>\n",
    "\n",
    "Proof-of-principle by **Matthias König, Hadas Leonov & Wolfgang Müller** "
   ]
  },
  {
   "cell_type": "code",
   "execution_count": 38,
   "metadata": {},
   "outputs": [],
   "source": [
    "# important ids (seekbeta.lisym.org)\n",
    "REPLACEMENTS = {\n",
    "    'KOENIG_ID': \"17\",\n",
    "    'PROJECT_ID': \"10\",  # MM-PLF\n",
    "    'INVESTIGATION_ID': \"17\",\n",
    "    'HOMO_SAPIENS': \"950657990\",\n",
    "}"
   ]
  },
  {
   "cell_type": "code",
   "execution_count": 39,
   "metadata": {
    "collapsed": false
   },
   "outputs": [],
   "source": [
    "import requests\n",
    "import json\n",
    "import string\n",
    "from pprint import pprint\n",
    "# base_url = 'http://localhost:3000/'\n",
    "base_url = 'https://seekbeta.lisym.org/'\n",
    "\n",
    "API_TOKEN = open(\"./token\").readline().strip() #\"user:password\" encoded in base64\n",
    "headers = {\"Authorization\": \"Basic %s\" %API_TOKEN,\n",
    "           \"Content-type\": \"application/vnd.api+json\",\n",
    "           \"Accept\": \"application/vnd.api+json\"}\n",
    "file_upload_headers = headers.copy()\n",
    "file_upload_headers.pop('Content-type');"
   ]
  },
  {
   "cell_type": "code",
   "execution_count": 40,
   "metadata": {
    "collapsed": true
   },
   "outputs": [],
   "source": [
    "def print_response(response_text):\n",
    "    if (r.ok):\n",
    "        obj = json.loads(response_text)\n",
    "        print(\"Returned successfully posted object:\\n\",obj)\n",
    "        return obj\n",
    "    else:\n",
    "        print(\"Error: \", r.text)\n",
    "    return None"
   ]
  },
  {
   "cell_type": "code",
   "execution_count": 41,
   "metadata": {
    "collapsed": false
   },
   "outputs": [],
   "source": [
    "def init_json_data(file, replacements=REPLACEMENTS):\n",
    "    json_format = json.load(open(file))\n",
    "    json_data = json.dumps(json_format)\n",
    "    for key, value in replacements.items():\n",
    "        json_data = str.replace(json_data, key, value)\n",
    "    return json_data"
   ]
  },
  {
   "cell_type": "markdown",
   "metadata": {},
   "source": [
    "### Post caffeine study\n",
    "The investigation and project already exist and can be referenced via their respective ids. Now we create a new study for the caffeine data."
   ]
  },
  {
   "cell_type": "code",
   "execution_count": 42,
   "metadata": {
    "collapsed": false
   },
   "outputs": [
    {
     "name": "stdout",
     "output_type": "stream",
     "text": [
      "--------------------------------------------------------------------------------\n",
      "{'data': {'attributes': {'description': 'Pharmacokinetics data set for '\n",
      "                                        'caffeine',\n",
      "                         'experimentalists': '',\n",
      "                         'other_creators': '',\n",
      "                         'person_responsible_id': '17',\n",
      "                         'policy': {'access': 'view',\n",
      "                                    'permissions': [{'access': 'download',\n",
      "                                                     'resource_id': '10',\n",
      "                                                     'resource_type': 'projects'}]},\n",
      "                         'title': 'PKDB Caffeine Study'},\n",
      "          'relationships': {'creators': {'data': [{'id': '17',\n",
      "                                                   'type': 'people'}]},\n",
      "                            'investigation': {'data': {'id': '17',\n",
      "                                                       'type': 'investigations'}},\n",
      "                            'publications': {'data': []}},\n",
      "          'type': 'studies'}}\n",
      "--------------------------------------------------------------------------------\n",
      "Returned successfully posted object:\n",
      " {'jsonapi': {'version': '1.0'}, 'data': {'id': '47', 'attributes': {'policy': {'permissions': [{'resource_id': '10', 'resource_type': 'projects', 'access': 'download'}], 'access': 'view'}, 'description': 'Pharmacokinetics data set for caffeine', 'other_creators': None, 'experimentalists': None, 'person_responsible_id': '17', 'title': 'PKDB Caffeine Study'}, 'meta': {'base_url': 'http://seek.lisym.org', 'api_version': '0.1', 'modified': '2018-04-30T09:35:49.366Z', 'created': '2018-04-30T09:35:49.229Z', 'uuid': 'ca522a80-2e87-0136-ce3e-0242ac120005'}, 'links': {'self': '/studies/47'}, 'type': 'studies', 'relationships': {'projects': {'data': [{'id': '10', 'type': 'projects'}]}, 'assays': {'data': []}, 'publications': {'data': []}, 'people': {'data': [{'id': '17', 'type': 'people'}]}, 'submitter': {'data': [{'id': '17', 'type': 'people'}]}, 'documents': {'data': []}, 'data_files': {'data': []}, 'models': {'data': []}, 'investigation': {'data': {'id': '17', 'type': 'investigations'}}, 'sops': {'data': []}, 'creators': {'data': [{'id': '17', 'type': 'people'}]}}}}\n"
     ]
    }
   ],
   "source": [
    "study_file = \"./pkdb/json/caffeine_study.json\"\n",
    "url = base_url + \"studies\"\n",
    "json_data = init_json_data(study_file, replacements=REPLACEMENTS)\n",
    "# pprint(json_data)\n",
    "print('-'*80)\n",
    "pprint(json.loads(json_data))\n",
    "print('-'*80)\n",
    "r = requests.post(url, headers=headers, data=json_data)\n",
    "study = print_response(r.text)"
   ]
  },
  {
   "cell_type": "code",
   "execution_count": 43,
   "metadata": {},
   "outputs": [],
   "source": [
    "# store study id for assays\n",
    "REPLACEMENTS['STUDY_ID'] = study['data']['id']"
   ]
  },
  {
   "cell_type": "markdown",
   "metadata": {},
   "source": [
    "### Experimental assays & Data files\n",
    "Every digitized publication is handled as a separate experimental assay.\n",
    "\n",
    "The corresponding data files (CSV data) are associated as data file to the assay."
   ]
  },
  {
   "cell_type": "code",
   "execution_count": 46,
   "metadata": {
    "collapsed": false
   },
   "outputs": [
    {
     "name": "stdout",
     "output_type": "stream",
     "text": [
      "Returned successfully posted object:\n",
      " {'jsonapi': {'version': '1.0'}, 'data': {'id': '88', 'attributes': {'policy': {'permissions': [{'resource_id': '10', 'resource_type': 'projects', 'access': 'manage'}], 'access': 'download'}, 'description': 'Data digitized from publication.\\n\\nAkinyinka2000 Description', 'tags': ['Blood sampling', 'Human', 'pharmacokinetics'], 'assay_type': {'label': None, 'uri': 'http://www.mygrid.org.uk/ontology/JERMOntology#mass_Spectrometry'}, 'assay_class': {'description': None, 'title': 'Experimental assay', 'key': 'EXP'}, 'technology_type': {'label': None, 'uri': 'http://www.mygrid.org.uk/ontology/JERMOntology#mass_Spectrometry'}, 'other_creators': None, 'title': 'Digitized pharmacokinetics data (Akinyinka2000)'}, 'meta': {'base_url': 'http://seek.lisym.org', 'api_version': '0.1', 'modified': '2018-04-30T10:08:08.676Z', 'created': '2018-04-30T10:08:08.443Z', 'uuid': '4e2e81b0-2e8c-0136-ce3f-0242ac120005'}, 'links': {'self': '/assays/88'}, 'type': 'assays', 'relationships': {'projects': {'data': [{'id': '10', 'type': 'projects'}]}, 'publications': {'data': []}, 'people': {'data': [{'id': '17', 'type': 'people'}]}, 'submitter': {'data': [{'id': '17', 'type': 'people'}]}, 'data_files': {'data': []}, 'organisms': {'data': [{'id': '950657990', 'type': 'organisms'}]}, 'models': {'data': []}, 'sops': {'data': []}, 'investigation': {'data': {'id': '17', 'type': 'investigations'}}, 'study': {'data': {'id': '47', 'type': 'studies'}}, 'documents': {'data': []}, 'creators': {'data': [{'id': '17', 'type': 'people'}]}}}}\n"
     ]
    }
   ],
   "source": [
    "author_id = 'Akinyinka2000'\n",
    "REPLACEMENTS['AUTHOR_ID'] = author_id \n",
    "REPLACEMENTS['AUTHOR_DESCRIPTION'] = '{} Description'.format(author_id)\n",
    "\n",
    "exp_assays = []\n",
    "assay_file = \"./pkdb/json/caffeine_exp_assay.json\"\n",
    "url = base_url + \"assays\"\n",
    "json_data = init_json_data(assay_file)\n",
    "r = requests.post(url, headers=headers, data=json_data)\n",
    "assay = print_response(r.text)\n",
    "exp_assays.append(assay)"
   ]
  },
  {
   "cell_type": "code",
   "execution_count": 48,
   "metadata": {
    "collapsed": false
   },
   "outputs": [
    {
     "ename": "FileNotFoundError",
     "evalue": "[Errno 2] No such file or directory: './pkpd/json/caffeine_data_file.json'",
     "output_type": "error",
     "traceback": [
      "\u001b[0;31m---------------------------------------------------------------------------\u001b[0m",
      "\u001b[0;31mFileNotFoundError\u001b[0m                         Traceback (most recent call last)",
      "\u001b[0;32m<ipython-input-48-5fd806a8d8bd>\u001b[0m in \u001b[0;36m<module>\u001b[0;34m()\u001b[0m\n\u001b[1;32m      6\u001b[0m \u001b[0mdf_file\u001b[0m \u001b[0;34m=\u001b[0m \u001b[0;34m\"./pkpd/json/caffeine_data_file.json\"\u001b[0m\u001b[0;34m\u001b[0m\u001b[0m\n\u001b[1;32m      7\u001b[0m \u001b[0murl\u001b[0m \u001b[0;34m=\u001b[0m \u001b[0mbase_url\u001b[0m \u001b[0;34m+\u001b[0m \u001b[0;34m\"data_files\"\u001b[0m\u001b[0;34m\u001b[0m\u001b[0m\n\u001b[0;32m----> 8\u001b[0;31m \u001b[0mjson_data\u001b[0m \u001b[0;34m=\u001b[0m \u001b[0minit_json_data\u001b[0m\u001b[0;34m(\u001b[0m\u001b[0mdf_file\u001b[0m\u001b[0;34m)\u001b[0m\u001b[0;34m\u001b[0m\u001b[0m\n\u001b[0m\u001b[1;32m      9\u001b[0m \u001b[0mr\u001b[0m \u001b[0;34m=\u001b[0m \u001b[0mrequests\u001b[0m\u001b[0;34m.\u001b[0m\u001b[0mpost\u001b[0m\u001b[0;34m(\u001b[0m\u001b[0murl\u001b[0m\u001b[0;34m,\u001b[0m \u001b[0mheaders\u001b[0m\u001b[0;34m=\u001b[0m\u001b[0mheaders\u001b[0m\u001b[0;34m,\u001b[0m \u001b[0mdata\u001b[0m\u001b[0;34m=\u001b[0m\u001b[0mjson_data\u001b[0m\u001b[0;34m)\u001b[0m\u001b[0;34m\u001b[0m\u001b[0m\n\u001b[1;32m     10\u001b[0m \u001b[0mdata_file\u001b[0m \u001b[0;34m=\u001b[0m \u001b[0mprint_response\u001b[0m\u001b[0;34m(\u001b[0m\u001b[0mr\u001b[0m\u001b[0;34m.\u001b[0m\u001b[0mtext\u001b[0m\u001b[0;34m)\u001b[0m\u001b[0;34m\u001b[0m\u001b[0m\n",
      "\u001b[0;32m<ipython-input-41-a949f2f96565>\u001b[0m in \u001b[0;36minit_json_data\u001b[0;34m(file, replacements)\u001b[0m\n\u001b[1;32m      1\u001b[0m \u001b[0;32mdef\u001b[0m \u001b[0minit_json_data\u001b[0m\u001b[0;34m(\u001b[0m\u001b[0mfile\u001b[0m\u001b[0;34m,\u001b[0m \u001b[0mreplacements\u001b[0m\u001b[0;34m=\u001b[0m\u001b[0mREPLACEMENTS\u001b[0m\u001b[0;34m)\u001b[0m\u001b[0;34m:\u001b[0m\u001b[0;34m\u001b[0m\u001b[0m\n\u001b[0;32m----> 2\u001b[0;31m     \u001b[0mjson_format\u001b[0m \u001b[0;34m=\u001b[0m \u001b[0mjson\u001b[0m\u001b[0;34m.\u001b[0m\u001b[0mload\u001b[0m\u001b[0;34m(\u001b[0m\u001b[0mopen\u001b[0m\u001b[0;34m(\u001b[0m\u001b[0mfile\u001b[0m\u001b[0;34m)\u001b[0m\u001b[0;34m)\u001b[0m\u001b[0;34m\u001b[0m\u001b[0m\n\u001b[0m\u001b[1;32m      3\u001b[0m     \u001b[0mjson_data\u001b[0m \u001b[0;34m=\u001b[0m \u001b[0mjson\u001b[0m\u001b[0;34m.\u001b[0m\u001b[0mdumps\u001b[0m\u001b[0;34m(\u001b[0m\u001b[0mjson_format\u001b[0m\u001b[0;34m)\u001b[0m\u001b[0;34m\u001b[0m\u001b[0m\n\u001b[1;32m      4\u001b[0m     \u001b[0;32mfor\u001b[0m \u001b[0mkey\u001b[0m\u001b[0;34m,\u001b[0m \u001b[0mvalue\u001b[0m \u001b[0;32min\u001b[0m \u001b[0mreplacements\u001b[0m\u001b[0;34m.\u001b[0m\u001b[0mitems\u001b[0m\u001b[0;34m(\u001b[0m\u001b[0;34m)\u001b[0m\u001b[0;34m:\u001b[0m\u001b[0;34m\u001b[0m\u001b[0m\n\u001b[1;32m      5\u001b[0m         \u001b[0mjson_data\u001b[0m \u001b[0;34m=\u001b[0m \u001b[0mstr\u001b[0m\u001b[0;34m.\u001b[0m\u001b[0mreplace\u001b[0m\u001b[0;34m(\u001b[0m\u001b[0mjson_data\u001b[0m\u001b[0;34m,\u001b[0m \u001b[0mkey\u001b[0m\u001b[0;34m,\u001b[0m \u001b[0mvalue\u001b[0m\u001b[0;34m)\u001b[0m\u001b[0;34m\u001b[0m\u001b[0m\n",
      "\u001b[0;31mFileNotFoundError\u001b[0m: [Errno 2] No such file or directory: './pkpd/json/caffeine_data_file.json'"
     ]
    }
   ],
   "source": [
    "#First POST the meta-data\n",
    "REPLACEMENTS['ASSAY_ID'] = assay['data']['id']\n",
    "data_files = []\n",
    "\n",
    "# create the metadata\n",
    "df_file = \"./pkpd/json/caffeine_data_file.json\"\n",
    "url = base_url + \"data_files\"\n",
    "json_data = init_json_data(df_file)\n",
    "r = requests.post(url, headers=headers, data=json_data)\n",
    "data_file = print_response(r.text)\n",
    "\n",
    "# second, add the file (PUT)\n",
    "filepath = './pkpd/files/data/{}.csv'.format(author_id)\n",
    "url = df['data']['attributes']['content_blobs'][0]['link']  # content_blobs array size = 1\n",
    "r = requests.put(url, headers=file_upload_headers, files={\"file\": open(filepath, 'rb')})\n",
    "print(\"Response Status:\", r)\n"
   ]
  },
  {
   "cell_type": "markdown",
   "metadata": {},
   "source": [
    "# Cleanup SEEK"
   ]
  },
  {
   "cell_type": "code",
   "execution_count": 45,
   "metadata": {},
   "outputs": [
    {
     "name": "stdout",
     "output_type": "stream",
     "text": [
      "https://seekbeta.lisym.org/assays/87.json\n",
      "Returned successfully posted object:\n",
      " {'status': 'ok'}\n"
     ]
    }
   ],
   "source": [
    "# delete experimental assays\n",
    "for assay in exp_assays:\n",
    "    assay_id = assay['data']['id']\n",
    "    url = base_url + \"assays/{}.json\".format(assay_id)\n",
    "    print(url)\n",
    "    r = requests.delete(url, headers=headers)\n",
    "    print_response(r.text)  "
   ]
  },
  {
   "cell_type": "code",
   "execution_count": null,
   "metadata": {},
   "outputs": [],
   "source": [
    "# delete study\n",
    "study_id = study['data']['id']\n",
    "url = base_url + \"studies/{}.json\".format(study_id)\n",
    "print(url)\n",
    "r = requests.delete(url, headers=headers)\n",
    "print_response(r.text)"
   ]
  },
  {
   "cell_type": "code",
   "execution_count": null,
   "metadata": {},
   "outputs": [],
   "source": []
  },
  {
   "cell_type": "code",
   "execution_count": null,
   "metadata": {},
   "outputs": [],
   "source": []
  },
  {
   "cell_type": "code",
   "execution_count": null,
   "metadata": {},
   "outputs": [],
   "source": []
  },
  {
   "cell_type": "code",
   "execution_count": null,
   "metadata": {},
   "outputs": [],
   "source": []
  },
  {
   "cell_type": "markdown",
   "metadata": {},
   "source": [
    "### Post an SOP linked to an Assay"
   ]
  },
  {
   "cell_type": "code",
   "execution_count": 10,
   "metadata": {
    "collapsed": false
   },
   "outputs": [
    {
     "name": "stdout",
     "output_type": "stream",
     "text": [
      "Returned successfully posted object:\n",
      " {'data': {'id': '6', 'type': 'sops', 'attributes': {'policy': {'access': 'download', 'permissions': [{'resource_type': 'projects', 'resource_id': '10', 'access': 'edit'}]}, 'title': 'API Test SOP', 'description': 'This is the description', 'license': 'CC-BY-4.0', 'latest_version': 1, 'tags': ['tag1', 'tag2'], 'versions': [{'version': 1, 'revision_comments': None, 'url': 'http://localhost:3000/sops/6?version=1'}], 'version': 1, 'revision_comments': None, 'created_at': '2018-04-13T08:58:18.000Z', 'updated_at': '2018-04-13T08:58:18.000Z', 'content_blobs': [{'original_filename': 'a_pdf_file.pdf', 'url': None, 'md5sum': None, 'sha1sum': None, 'content_type': 'application/pdf', 'link': 'http://localhost:3000/sops/6/content_blobs/62', 'size': None}], 'other_creators': 'John Smith, Jane Smith'}, 'relationships': {'creators': {'data': [{'id': '1', 'type': 'people'}]}, 'submitter': {'data': [{'id': '1', 'type': 'people'}]}, 'people': {'data': [{'id': '1', 'type': 'people'}]}, 'projects': {'data': [{'id': '10', 'type': 'projects'}]}, 'investigations': {'data': [{'id': '8', 'type': 'investigations'}]}, 'studies': {'data': [{'id': '5', 'type': 'studies'}]}, 'assays': {'data': [{'id': '14', 'type': 'assays'}]}, 'publications': {'data': []}}, 'links': {'self': '/sops/6?version=1'}, 'meta': {'created': '2018-04-13T08:58:18.844Z', 'modified': '2018-04-13T08:58:19.278Z', 'api_version': '0.1', 'uuid': 'bbf410e0-2126-0136-9643-745c89ac8d09', 'base_url': 'http://localhost:3000'}}, 'jsonapi': {'version': '1.0'}}\n",
      "Response Status:  <Response [200]>\n"
     ]
    }
   ],
   "source": [
    "#First POST the meta-data\n",
    "sop_file = \"./json/post_max_sop.json\"\n",
    "url = base_url + \"sops\"\n",
    "json_data = init_json_data(sop_file, \"API Test SOP\")\n",
    "json_data = str.replace(json_data, \"PROJECT_ID\", proj['data']['id'])\n",
    "json_data = str.replace(json_data, \"ASSAY_ID\", assay['data']['id'])\n",
    "r = requests.post(url, headers=headers, data=json_data)\n",
    "sop = print_response(r.text)\n",
    "#Second, add the file (PUT)\n",
    "url = sop['data']['attributes']['content_blobs'][0]['link']  #only one file in an Sop \n",
    "r = requests.put(url, headers=file_upload_headers, files={\"file\": open('./files/meltdown.pdf', 'rb')})\n",
    "print(\"Response Status: \",r)"
   ]
  },
  {
   "cell_type": "markdown",
   "metadata": {},
   "source": [
    "### Post a Document linked to an Assay"
   ]
  },
  {
   "cell_type": "code",
   "execution_count": 11,
   "metadata": {
    "collapsed": false
   },
   "outputs": [
    {
     "name": "stdout",
     "output_type": "stream",
     "text": [
      "Returned successfully posted object:\n",
      " {'data': {'id': '6', 'type': 'documents', 'attributes': {'policy': {'access': 'download', 'permissions': [{'resource_type': 'projects', 'resource_id': '10', 'access': 'edit'}]}, 'title': 'API Test Document', 'description': 'This is the description', 'license': 'CC-BY-4.0', 'latest_version': 1, 'tags': ['tag1', 'tag2'], 'versions': [{'version': 1, 'revision_comments': None, 'url': 'http://localhost:3000/documents/6?version=1'}], 'version': 1, 'revision_comments': None, 'created_at': '2018-04-13T08:58:21.000Z', 'updated_at': '2018-04-13T08:58:21.000Z', 'content_blobs': [{'original_filename': 'a_pdf_file.pdf', 'url': None, 'md5sum': None, 'sha1sum': None, 'content_type': 'application/pdf', 'link': 'http://localhost:3000/documents/6/content_blobs/63', 'size': None}], 'other_creators': 'John Smith, Jane Smith'}, 'relationships': {'creators': {'data': [{'id': '2', 'type': 'people'}]}, 'submitter': {'data': [{'id': '1', 'type': 'people'}]}, 'people': {'data': [{'id': '1', 'type': 'people'}, {'id': '2', 'type': 'people'}]}, 'projects': {'data': [{'id': '10', 'type': 'projects'}]}, 'investigations': {'data': [{'id': '8', 'type': 'investigations'}]}, 'studies': {'data': [{'id': '5', 'type': 'studies'}]}, 'assays': {'data': [{'id': '14', 'type': 'assays'}]}, 'publications': {'data': []}}, 'links': {'self': '/documents/6?version=1'}, 'meta': {'created': '2018-04-13T08:58:21.703Z', 'modified': '2018-04-13T08:58:22.108Z', 'api_version': '0.1', 'uuid': 'bda961f0-2126-0136-9643-745c89ac8d09', 'base_url': 'http://localhost:3000'}}, 'jsonapi': {'version': '1.0'}}\n",
      "Response status:  <Response [200]>\n"
     ]
    }
   ],
   "source": [
    "#First POST the meta-data\n",
    "doc_file = \"./json/post_max_document.json\"\n",
    "url = base_url + \"documents\"\n",
    "json_data = init_json_data(doc_file, \"API Test Document\")\n",
    "json_data = str.replace(json_data, \"PROJECT_ID\", proj['data']['id'])\n",
    "json_data = str.replace(json_data, \"ASSAY_ID\", assay['data']['id'])\n",
    "r = requests.post(url, headers=headers, data=json_data)\n",
    "doc = print_response(r.text)\n",
    "#Second, add the file (PUT)\n",
    "url = doc['data']['attributes']['content_blobs'][0]['link']  #only one file in an Sop \n",
    "r = requests.put(url, headers=file_upload_headers, files={\"file\": open('./files/meltdown.pdf', 'rb')})\n",
    "print(\"Response status: \", r)"
   ]
  },
  {
   "cell_type": "markdown",
   "metadata": {},
   "source": [
    "### Post a Model linked to an Assay"
   ]
  },
  {
   "cell_type": "code",
   "execution_count": 12,
   "metadata": {
    "collapsed": false
   },
   "outputs": [
    {
     "name": "stdout",
     "output_type": "stream",
     "text": [
      "Returned successfully posted object:\n",
      " {'data': {'id': '11', 'type': 'models', 'attributes': {'policy': {'access': 'download', 'permissions': [{'resource_type': 'projects', 'resource_id': '10', 'access': 'edit'}]}, 'title': 'API Test Model', 'description': 'This is the description', 'license': 'CC-BY-4.0', 'latest_version': 1, 'tags': ['tag1', 'tag2'], 'versions': [{'version': 1, 'revision_comments': None, 'url': 'http://localhost:3000/models/11?version=1'}], 'version': 1, 'revision_comments': None, 'created_at': '2018-04-13T08:58:25.000Z', 'updated_at': '2018-04-13T08:58:25.000Z', 'content_blobs': [{'original_filename': 'docs.pdf', 'url': None, 'md5sum': None, 'sha1sum': None, 'content_type': 'application/pdf', 'link': 'http://localhost:3000/models/11/content_blobs/64', 'size': None}, {'original_filename': 'docs2.pdf', 'url': None, 'md5sum': None, 'sha1sum': None, 'content_type': 'application/pdf', 'link': 'http://localhost:3000/models/11/content_blobs/65', 'size': None}, {'original_filename': 'the_model.xml', 'url': None, 'md5sum': None, 'sha1sum': None, 'content_type': 'application/xml', 'link': 'http://localhost:3000/models/11/content_blobs/66', 'size': None}], 'other_creators': 'John Smith, Jane Smith', 'model_type': 'Linear equations', 'model_format': 'SBML', 'environment': 'JWS Online'}, 'relationships': {'creators': {'data': [{'id': '1', 'type': 'people'}]}, 'submitter': {'data': [{'id': '1', 'type': 'people'}]}, 'people': {'data': [{'id': '1', 'type': 'people'}]}, 'projects': {'data': [{'id': '10', 'type': 'projects'}]}, 'investigations': {'data': [{'id': '8', 'type': 'investigations'}]}, 'studies': {'data': [{'id': '5', 'type': 'studies'}]}, 'assays': {'data': [{'id': '14', 'type': 'assays'}]}, 'publications': {'data': [{'id': '1', 'type': 'publications'}]}}, 'links': {'self': '/models/11?version=1'}, 'meta': {'created': '2018-04-13T08:58:25.581Z', 'modified': '2018-04-13T08:58:26.006Z', 'api_version': '0.1', 'uuid': 'bff527f0-2126-0136-9643-745c89ac8d09', 'base_url': 'http://localhost:3000'}}, 'jsonapi': {'version': '1.0'}}\n",
      "uploading ./files/model_1.pdf to http://localhost:3000/models/11/content_blobs/64\n",
      "Response Status: <Response [200]>\n",
      "uploading ./files/model_2.pdf to http://localhost:3000/models/11/content_blobs/65\n",
      "Response Status: <Response [200]>\n",
      "uploading ./files/model_3.xml to http://localhost:3000/models/11/content_blobs/66\n",
      "Response Status: <Response [200]>\n"
     ]
    }
   ],
   "source": [
    "#First POST the meta-data\n",
    "model_file = \"./json/post_max_model.json\"\n",
    "url = base_url + \"models\"\n",
    "json_data = init_json_data(model_file, \"API Test Model\")\n",
    "json_data = str.replace(json_data, \"PROJECT_ID\", proj['data']['id'])\n",
    "json_data = str.replace(json_data, \"ASSAY_ID\", assay['data']['id'])\n",
    "r = requests.post(url, headers=headers, data=json_data)\n",
    "mod = print_response(r.text)\n",
    "\n",
    "#Second, add the file (PUT)\n",
    "blob_url = lambda bi: mod['data']['attributes']['content_blobs'][bi]['link']\n",
    "blob_type = lambda bi: str.replace(mod['data']['attributes']['content_blobs'][bi]['content_type'], \"application/\", \"\")\n",
    "filename = lambda bi: \"./files/model_\"+str(bi+1)+\".\"+blob_type(bi)\n",
    "\n",
    "for i in range(len(mod['data']['attributes']['content_blobs'])):\n",
    "    print(\"uploading\", filename(i), \"to\", blob_url(i))\n",
    "    r = requests.put(blob_url(i), headers=file_upload_headers, files={\"file\": open(filename(i), 'rb')})\n",
    "    print(\"Response Status:\", r)"
   ]
  },
  {
   "cell_type": "markdown",
   "metadata": {},
   "source": [
    "### Post a Presentation (linked to a Project)"
   ]
  },
  {
   "cell_type": "code",
   "execution_count": 13,
   "metadata": {
    "collapsed": false
   },
   "outputs": [
    {
     "name": "stdout",
     "output_type": "stream",
     "text": [
      "Returned successfully posted object:\n",
      " {'data': {'id': '6', 'type': 'presentations', 'attributes': {'policy': {'access': 'download', 'permissions': [{'resource_type': 'projects', 'resource_id': '10', 'access': 'edit'}]}, 'title': 'API Test Presentation', 'description': 'This is the description', 'license': 'CC-BY-4.0', 'latest_version': 1, 'tags': ['tag1', 'tag2'], 'versions': [{'version': 1, 'revision_comments': None, 'url': 'http://localhost:3000/presentations/6?version=1'}], 'version': 1, 'revision_comments': None, 'created_at': '2018-04-13T08:58:28.000Z', 'updated_at': '2018-04-13T08:58:28.000Z', 'content_blobs': [{'original_filename': 'a_pdf_file.pdf', 'url': None, 'md5sum': None, 'sha1sum': None, 'content_type': 'application/pdf', 'link': 'http://localhost:3000/presentations/6/content_blobs/67', 'size': None}], 'other_creators': 'John Smith, Jane Smith'}, 'relationships': {'creators': {'data': [{'id': '3', 'type': 'people'}]}, 'submitter': {'data': [{'id': '1', 'type': 'people'}]}, 'people': {'data': [{'id': '1', 'type': 'people'}, {'id': '3', 'type': 'people'}]}, 'projects': {'data': [{'id': '10', 'type': 'projects'}]}, 'investigations': {'data': []}, 'studies': {'data': []}, 'assays': {'data': []}, 'publications': {'data': [{'id': '1', 'type': 'publications'}]}, 'events': {'data': [{'id': '1', 'type': 'events'}]}}, 'links': {'self': '/presentations/6?version=1'}, 'meta': {'created': '2018-04-13T08:58:28.840Z', 'modified': '2018-04-13T08:58:29.283Z', 'api_version': '0.1', 'uuid': 'c1e5b1b0-2126-0136-9643-745c89ac8d09', 'base_url': 'http://localhost:3000'}}, 'jsonapi': {'version': '1.0'}}\n",
      "Response Status:  <Response [200]>\n"
     ]
    }
   ],
   "source": [
    "#First POST the meta-data\n",
    "pr_file = \"./json/post_max_presentation.json\"\n",
    "url = base_url + \"presentations\"\n",
    "json_data = init_json_data(pr_file, \"API Test Presentation\")\n",
    "json_data = str.replace(json_data, \"PROJECT_ID\", proj['data']['id'])\n",
    "r = requests.post(url, headers=headers, data=json_data)\n",
    "pr = print_response(r.text)\n",
    "#Second, add the file (PUT)\n",
    "url = pr['data']['attributes']['content_blobs'][0]['link']  #only one file in a presentation\n",
    "r = requests.put(url, headers=file_upload_headers, files={\"file\": open('./files/presentation.pdf', 'rb')})\n",
    "print(\"Response Status: \", r)"
   ]
  },
  {
   "cell_type": "markdown",
   "metadata": {},
   "source": [
    "### Post a Modeling Assay with linked Assets "
   ]
  },
  {
   "cell_type": "code",
   "execution_count": 14,
   "metadata": {
    "collapsed": false
   },
   "outputs": [
    {
     "name": "stdout",
     "output_type": "stream",
     "text": [
      "Returned successfully posted object:\n",
      " {'data': {'id': '15', 'type': 'assays', 'attributes': {'policy': {'access': 'download', 'permissions': [{'resource_type': 'projects', 'resource_id': '10', 'access': 'manage'}]}, 'title': 'API Test Modeling Assay with linked assets', 'description': 'modeling analysis', 'other_creators': 'Anonymous creator', 'assay_class': {'title': 'Modelling analysis', 'key': 'MODEL', 'description': None}, 'assay_type': {'label': None, 'uri': 'http://www.mygrid.org.uk/ontology/JERMOntology#Cell_cycle'}, 'technology_type': {'label': None, 'uri': None}, 'tags': ['Assay-tag1', 'Assay-tag2', 'Assay-tag3']}, 'relationships': {'creators': {'data': [{'id': '2', 'type': 'people'}]}, 'submitter': {'data': [{'id': '1', 'type': 'people'}]}, 'organisms': {'data': [{'id': '548322508', 'type': 'organisms'}]}, 'people': {'data': [{'id': '1', 'type': 'people'}, {'id': '2', 'type': 'people'}]}, 'projects': {'data': [{'id': '10', 'type': 'projects'}]}, 'investigation': {'data': {'id': '8', 'type': 'investigations'}}, 'study': {'data': {'id': '5', 'type': 'studies'}}, 'data_files': {'data': [{'id': '15', 'type': 'data_files'}]}, 'models': {'data': [{'id': '11', 'type': 'models'}]}, 'sops': {'data': [{'id': '6', 'type': 'sops'}]}, 'publications': {'data': [{'id': '1', 'type': 'publications'}]}, 'documents': {'data': [{'id': '6', 'type': 'documents'}]}}, 'links': {'self': '/assays/15'}, 'meta': {'created': '2018-04-13T08:58:35.432Z', 'modified': '2018-04-13T08:58:35.967Z', 'api_version': '0.1', 'uuid': 'c5d835a0-2126-0136-9643-745c89ac8d09', 'base_url': 'http://localhost:3000'}}, 'jsonapi': {'version': '1.0'}}\n"
     ]
    }
   ],
   "source": [
    "assay_file2 = \"./json/post_max_assay2.json\"\n",
    "url = base_url + \"assays\"\n",
    "json_data = init_json_data(assay_file2, \"API Test Modeling Assay with linked assets\")\n",
    "json_data = str.replace(json_data, \"PROJECT_ID\", proj['data']['id'])\n",
    "json_data = str.replace(json_data, \"STUDY_ID\", study['data']['id'])\n",
    "json_data = str.replace(json_data, \"SOP_ID\", sop['data']['id'])\n",
    "json_data = str.replace(json_data, \"MODEL_ID\", mod['data']['id'])\n",
    "json_data = str.replace(json_data, \"DOCUMENT_ID\", doc['data']['id'])\n",
    "json_data = str.replace(json_data, \"DATAFILE_ID\", df['data']['id'])\n",
    "\n",
    "r = requests.post(url, headers=headers, data=json_data)\n",
    "assay2 = print_response(r.text)"
   ]
  },
  {
   "cell_type": "markdown",
   "metadata": {},
   "source": [
    "### Post a DataFile with remote content (URL) --> similar for other assets"
   ]
  },
  {
   "cell_type": "code",
   "execution_count": 15,
   "metadata": {
    "collapsed": false
   },
   "outputs": [
    {
     "name": "stdout",
     "output_type": "stream",
     "text": [
      "Returned successfully posted object:\n",
      " {'data': {'id': '16', 'type': 'data_files', 'attributes': {'policy': {'access': 'no_access', 'permissions': []}, 'title': 'API remote Data File', 'description': None, 'license': None, 'latest_version': 1, 'tags': None, 'versions': [{'version': 1, 'revision_comments': None, 'url': 'http://localhost:3000/data_files/16?version=1'}], 'version': 1, 'revision_comments': None, 'created_at': '2018-04-13T08:58:41.000Z', 'updated_at': '2018-04-13T08:58:41.000Z', 'content_blobs': [{'original_filename': 'data-example.png', 'url': 'http://seek.virtual-liver.de/data_files/1110/content_blobs/1325/download', 'md5sum': None, 'sha1sum': None, 'content_type': 'image/png', 'link': 'http://localhost:3000/data_files/16/content_blobs/68', 'size': None}], 'other_creators': None}, 'relationships': {'creators': {'data': [{'id': '1', 'type': 'people'}]}, 'submitter': {'data': [{'id': '1', 'type': 'people'}]}, 'people': {'data': [{'id': '1', 'type': 'people'}]}, 'projects': {'data': [{'id': '10', 'type': 'projects'}]}, 'investigations': {'data': [{'id': '8', 'type': 'investigations'}]}, 'studies': {'data': [{'id': '5', 'type': 'studies'}]}, 'assays': {'data': [{'id': '14', 'type': 'assays'}]}, 'publications': {'data': []}, 'events': {'data': []}}, 'links': {'self': '/data_files/16?version=1'}, 'meta': {'created': '2018-04-13T08:58:41.199Z', 'modified': '2018-04-13T08:58:41.711Z', 'api_version': '0.1', 'uuid': 'c94998a0-2126-0136-9643-745c89ac8d09', 'base_url': 'http://localhost:3000'}}, 'jsonapi': {'version': '1.0'}}\n"
     ]
    }
   ],
   "source": [
    "df_file = \"./json/post_remote_data_file.json\"\n",
    "url = base_url + \"data_files\"\n",
    "json_data = init_json_data(df_file, \"API remote Data File\")\n",
    "json_data = str.replace(json_data, \"PROJECT_ID\", proj['data']['id'])\n",
    "json_data = str.replace(json_data, \"ASSAY_ID\", assay['data']['id'])\n",
    "r = requests.post(url, headers=headers, data=json_data)\n",
    "\n",
    "remote_df = print_response(r.text) "
   ]
  },
  {
   "cell_type": "markdown",
   "metadata": {},
   "source": [
    "### Post a Model with remote content"
   ]
  },
  {
   "cell_type": "code",
   "execution_count": 16,
   "metadata": {
    "collapsed": false
   },
   "outputs": [
    {
     "name": "stdout",
     "output_type": "stream",
     "text": [
      "Returned successfully posted object:\n",
      " {'data': {'id': '12', 'type': 'models', 'attributes': {'policy': {'access': 'no_access', 'permissions': []}, 'title': 'API remote model example', 'description': None, 'license': None, 'latest_version': 1, 'tags': None, 'versions': [{'version': 1, 'revision_comments': None, 'url': 'http://localhost:3000/models/12?version=1'}], 'version': 1, 'revision_comments': None, 'created_at': '2018-04-13T08:58:44.000Z', 'updated_at': '2018-04-13T08:58:44.000Z', 'content_blobs': [{'original_filename': 'download', 'url': 'http://seek.virtual-liver.de/data_files/1110/content_blobs/1325/download', 'md5sum': None, 'sha1sum': None, 'content_type': 'image/png', 'link': 'http://localhost:3000/models/12/content_blobs/69', 'size': None}, {'original_filename': '1110.xml', 'url': 'http://seek.virtual-liver.de/data_files/1110.xml', 'md5sum': None, 'sha1sum': None, 'content_type': 'application/xml', 'link': 'http://localhost:3000/models/12/content_blobs/70', 'size': None}], 'other_creators': None, 'model_type': None, 'model_format': None, 'environment': None}, 'relationships': {'creators': {'data': [{'id': '1', 'type': 'people'}]}, 'submitter': {'data': [{'id': '1', 'type': 'people'}]}, 'people': {'data': [{'id': '1', 'type': 'people'}]}, 'projects': {'data': [{'id': '10', 'type': 'projects'}]}, 'investigations': {'data': []}, 'studies': {'data': []}, 'assays': {'data': []}, 'publications': {'data': []}}, 'links': {'self': '/models/12?version=1'}, 'meta': {'created': '2018-04-13T08:58:44.809Z', 'modified': '2018-04-13T08:58:45.027Z', 'api_version': '0.1', 'uuid': 'cb705810-2126-0136-9643-745c89ac8d09', 'base_url': 'http://localhost:3000'}}, 'jsonapi': {'version': '1.0'}}\n"
     ]
    }
   ],
   "source": [
    "model_file = \"./json/post_remote_model.json\"\n",
    "url = base_url + \"models\"\n",
    "json_data = init_json_data(model_file, \"API remote model example\")\n",
    "json_data = str.replace(json_data, \"PROJECT_ID\", proj['data']['id'])\n",
    "r = requests.post(url, headers=headers, data=json_data)\n",
    "\n",
    "remote_model = print_response(r.text) "
   ]
  },
  {
   "cell_type": "code",
   "execution_count": null,
   "metadata": {
    "collapsed": true
   },
   "outputs": [],
   "source": []
  }
 ],
 "metadata": {
  "kernelspec": {
   "display_name": "seek",
   "language": "python",
   "name": "seek"
  },
  "language_info": {
   "codemirror_mode": {
    "name": "ipython",
    "version": 3
   },
   "file_extension": ".py",
   "mimetype": "text/x-python",
   "name": "python",
   "nbconvert_exporter": "python",
   "pygments_lexer": "ipython3",
   "version": "3.5.2"
  }
 },
 "nbformat": 4,
 "nbformat_minor": 2
}
