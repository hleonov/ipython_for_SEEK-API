{
 "cells": [
  {
   "cell_type": "markdown",
   "metadata": {},
   "source": [
    "# Pharmacokinetics Database in SEEK\n",
    "Upload of file assets to seek via the write/read API. Experimental data sets have been digitized from literature. The respective files are now made available via LiSyM-SEEK.\n",
    "\n",
    "<img src=\"./data_extraction.png\" width=\"500\"/>\n",
    "\n",
    "Proof-of-principle by **Matthias König, Hadas Leonov & Wolfgang Müller** "
   ]
  },
  {
   "cell_type": "code",
   "execution_count": 38,
   "metadata": {},
   "outputs": [],
   "source": [
    "# important ids (seekbeta.lisym.org)\n",
    "REPLACEMENTS = {\n",
    "    'KOENIG_ID': \"17\",\n",
    "    'PROJECT_ID': \"10\",  # MM-PLF\n",
    "    'INVESTIGATION_ID': \"17\",\n",
    "    'HOMO_SAPIENS': \"950657990\",\n",
    "}"
   ]
  },
  {
   "cell_type": "code",
   "execution_count": 39,
   "metadata": {
    "collapsed": false
   },
   "outputs": [],
   "source": [
    "import requests\n",
    "import json\n",
    "import string\n",
    "from pprint import pprint\n",
    "# base_url = 'http://localhost:3000/'\n",
    "base_url = 'https://seekbeta.lisym.org/'\n",
    "\n",
    "API_TOKEN = open(\"./token\").readline().strip() #\"user:password\" encoded in base64\n",
    "headers = {\"Authorization\": \"Basic %s\" %API_TOKEN,\n",
    "           \"Content-type\": \"application/vnd.api+json\",\n",
    "           \"Accept\": \"application/vnd.api+json\"}\n",
    "file_upload_headers = headers.copy()\n",
    "file_upload_headers.pop('Content-type');"
   ]
  },
  {
   "cell_type": "code",
   "execution_count": 84,
   "metadata": {
    "collapsed": true
   },
   "outputs": [],
   "source": [
    "def print_response(response_text, info=False):\n",
    "    if (r.ok):\n",
    "        obj = json.loads(response_text)\n",
    "        try: \n",
    "            seek_id = obj['data']['id']\n",
    "        except:\n",
    "            seek_id = '-'\n",
    "        print(\"Returned successfully posted object: <{}>\".format(seek_id))\n",
    "        if info:\n",
    "            pprint(obj)\n",
    "        return obj\n",
    "    else:\n",
    "        print(\"Error: \", r.text)\n",
    "    return None"
   ]
  },
  {
   "cell_type": "code",
   "execution_count": 41,
   "metadata": {
    "collapsed": false
   },
   "outputs": [],
   "source": [
    "def init_json_data(file, replacements=REPLACEMENTS):\n",
    "    json_format = json.load(open(file))\n",
    "    json_data = json.dumps(json_format)\n",
    "    for key, value in replacements.items():\n",
    "        json_data = str.replace(json_data, key, value)\n",
    "    return json_data"
   ]
  },
  {
   "cell_type": "markdown",
   "metadata": {},
   "source": [
    "### Post caffeine study\n",
    "The investigation and project already exist and can be referenced via their respective ids. Now we create a new study for the caffeine data."
   ]
  },
  {
   "cell_type": "code",
   "execution_count": 42,
   "metadata": {
    "collapsed": false
   },
   "outputs": [
    {
     "name": "stdout",
     "output_type": "stream",
     "text": [
      "--------------------------------------------------------------------------------\n",
      "{'data': {'attributes': {'description': 'Pharmacokinetics data set for '\n",
      "                                        'caffeine',\n",
      "                         'experimentalists': '',\n",
      "                         'other_creators': '',\n",
      "                         'person_responsible_id': '17',\n",
      "                         'policy': {'access': 'view',\n",
      "                                    'permissions': [{'access': 'download',\n",
      "                                                     'resource_id': '10',\n",
      "                                                     'resource_type': 'projects'}]},\n",
      "                         'title': 'PKDB Caffeine Study'},\n",
      "          'relationships': {'creators': {'data': [{'id': '17',\n",
      "                                                   'type': 'people'}]},\n",
      "                            'investigation': {'data': {'id': '17',\n",
      "                                                       'type': 'investigations'}},\n",
      "                            'publications': {'data': []}},\n",
      "          'type': 'studies'}}\n",
      "--------------------------------------------------------------------------------\n",
      "Returned successfully posted object:\n",
      " {'jsonapi': {'version': '1.0'}, 'data': {'id': '47', 'attributes': {'policy': {'permissions': [{'resource_id': '10', 'resource_type': 'projects', 'access': 'download'}], 'access': 'view'}, 'description': 'Pharmacokinetics data set for caffeine', 'other_creators': None, 'experimentalists': None, 'person_responsible_id': '17', 'title': 'PKDB Caffeine Study'}, 'meta': {'base_url': 'http://seek.lisym.org', 'api_version': '0.1', 'modified': '2018-04-30T09:35:49.366Z', 'created': '2018-04-30T09:35:49.229Z', 'uuid': 'ca522a80-2e87-0136-ce3e-0242ac120005'}, 'links': {'self': '/studies/47'}, 'type': 'studies', 'relationships': {'projects': {'data': [{'id': '10', 'type': 'projects'}]}, 'assays': {'data': []}, 'publications': {'data': []}, 'people': {'data': [{'id': '17', 'type': 'people'}]}, 'submitter': {'data': [{'id': '17', 'type': 'people'}]}, 'documents': {'data': []}, 'data_files': {'data': []}, 'models': {'data': []}, 'investigation': {'data': {'id': '17', 'type': 'investigations'}}, 'sops': {'data': []}, 'creators': {'data': [{'id': '17', 'type': 'people'}]}}}}\n"
     ]
    }
   ],
   "source": [
    "study_file = \"./pkdb/json/caffeine_study.json\"\n",
    "url = base_url + \"studies\"\n",
    "json_data = init_json_data(study_file, replacements=REPLACEMENTS)\n",
    "# pprint(json_data)\n",
    "print('-'*80)\n",
    "pprint(json.loads(json_data))\n",
    "print('-'*80)\n",
    "r = requests.post(url, headers=headers, data=json_data)\n",
    "study = print_response(r.text)"
   ]
  },
  {
   "cell_type": "code",
   "execution_count": 43,
   "metadata": {},
   "outputs": [],
   "source": [
    "# store study id for assays\n",
    "REPLACEMENTS['STUDY_ID'] = study['data']['id']"
   ]
  },
  {
   "cell_type": "markdown",
   "metadata": {},
   "source": [
    "### Experimental assays & Data files\n",
    "Every digitized publication is handled as a separate experimental assay.\n",
    "\n",
    "The corresponding data files (CSV data) are associated as data file to the assay."
   ]
  },
  {
   "cell_type": "code",
   "execution_count": 93,
   "metadata": {},
   "outputs": [
    {
     "name": "stdout",
     "output_type": "stream",
     "text": [
      "{'Akinyinka2000',\n",
      " 'Amchin1999',\n",
      " 'Blanchard1983a',\n",
      " 'Haller2002',\n",
      " 'Healy1991',\n",
      " 'Hetzler1990',\n",
      " 'Jeppesen1996',\n",
      " 'Kakuda2014',\n",
      " 'Kaplan1997',\n",
      " 'Magnusson2008',\n",
      " 'Oh2012',\n",
      " 'Perera2011',\n",
      " 'Spigset1999a',\n",
      " 'Tanaka2014'}\n"
     ]
    }
   ],
   "source": [
    "from os import listdir\n",
    "from os.path import isfile, join\n",
    "data_dir = './pkdb/files/data'\n",
    "files = [f for f in listdir(data_dir) if isfile(join(data_dir, f))]\n",
    "author_ids = set([fname[:-4] for fname in files if fname.endswith('.csv')])\n",
    "pprint(author_ids)"
   ]
  },
  {
   "cell_type": "code",
   "execution_count": 94,
   "metadata": {
    "collapsed": false
   },
   "outputs": [
    {
     "name": "stdout",
     "output_type": "stream",
     "text": [
      "Returned successfully posted object: <118>\n",
      "Returned successfully posted object: <119>\n",
      "Returned successfully posted object: <120>\n",
      "Returned successfully posted object: <121>\n",
      "Returned successfully posted object: <122>\n",
      "Returned successfully posted object: <123>\n",
      "Returned successfully posted object: <124>\n",
      "Returned successfully posted object: <125>\n",
      "Returned successfully posted object: <126>\n",
      "Returned successfully posted object: <127>\n",
      "Returned successfully posted object: <128>\n",
      "Returned successfully posted object: <129>\n",
      "Returned successfully posted object: <130>\n",
      "Returned successfully posted object: <131>\n"
     ]
    }
   ],
   "source": [
    "# create all\n",
    "exp_assays = {}\n",
    "for author_id in author_ids:\n",
    "    REPLACEMENTS['AUTHOR_ID'] = author_id \n",
    "    REPLACEMENTS['AUTHOR_DESCRIPTION'] = '{} Description'.format(author_id)\n",
    "\n",
    "    assay_file = \"./pkdb/json/caffeine_exp_assay.json\"\n",
    "    url = base_url + \"assays\"\n",
    "    json_data = init_json_data(assay_file)\n",
    "    r = requests.post(url, headers=headers, data=json_data)\n",
    "    assay = print_response(r.text)\n",
    "    exp_assays[author_id] = assay"
   ]
  },
  {
   "cell_type": "code",
   "execution_count": 95,
   "metadata": {
    "collapsed": false
   },
   "outputs": [
    {
     "name": "stdout",
     "output_type": "stream",
     "text": [
      "Returned successfully posted object: <418>\n",
      "http://seek.lisym.org/data_files/418/content_blobs/853\n",
      "Response Status: <Response [404]>\n",
      "--------------------------------------------------------------------------------\n",
      "Returned successfully posted object: <419>\n",
      "http://seek.lisym.org/data_files/419/content_blobs/854\n",
      "Response Status: <Response [404]>\n",
      "--------------------------------------------------------------------------------\n",
      "Returned successfully posted object: <420>\n",
      "http://seek.lisym.org/data_files/420/content_blobs/855\n",
      "Response Status: <Response [404]>\n",
      "--------------------------------------------------------------------------------\n",
      "Returned successfully posted object: <421>\n",
      "http://seek.lisym.org/data_files/421/content_blobs/856\n",
      "Response Status: <Response [404]>\n",
      "--------------------------------------------------------------------------------\n",
      "Returned successfully posted object: <422>\n",
      "http://seek.lisym.org/data_files/422/content_blobs/857\n",
      "Response Status: <Response [404]>\n",
      "--------------------------------------------------------------------------------\n",
      "Returned successfully posted object: <423>\n",
      "http://seek.lisym.org/data_files/423/content_blobs/858\n",
      "Response Status: <Response [404]>\n",
      "--------------------------------------------------------------------------------\n",
      "Returned successfully posted object: <424>\n",
      "http://seek.lisym.org/data_files/424/content_blobs/859\n",
      "Response Status: <Response [404]>\n",
      "--------------------------------------------------------------------------------\n",
      "Returned successfully posted object: <425>\n",
      "http://seek.lisym.org/data_files/425/content_blobs/860\n",
      "Response Status: <Response [404]>\n",
      "--------------------------------------------------------------------------------\n",
      "Returned successfully posted object: <426>\n",
      "http://seek.lisym.org/data_files/426/content_blobs/861\n",
      "Response Status: <Response [404]>\n",
      "--------------------------------------------------------------------------------\n",
      "Returned successfully posted object: <427>\n",
      "http://seek.lisym.org/data_files/427/content_blobs/862\n",
      "Response Status: <Response [404]>\n",
      "--------------------------------------------------------------------------------\n",
      "Returned successfully posted object: <428>\n",
      "http://seek.lisym.org/data_files/428/content_blobs/863\n",
      "Response Status: <Response [404]>\n",
      "--------------------------------------------------------------------------------\n",
      "Returned successfully posted object: <429>\n",
      "http://seek.lisym.org/data_files/429/content_blobs/864\n",
      "Response Status: <Response [404]>\n",
      "--------------------------------------------------------------------------------\n",
      "Returned successfully posted object: <430>\n",
      "http://seek.lisym.org/data_files/430/content_blobs/865\n",
      "Response Status: <Response [404]>\n",
      "--------------------------------------------------------------------------------\n",
      "Returned successfully posted object: <431>\n",
      "http://seek.lisym.org/data_files/431/content_blobs/866\n",
      "Response Status: <Response [404]>\n",
      "--------------------------------------------------------------------------------\n"
     ]
    }
   ],
   "source": [
    "# -------------\n",
    "# CSV\n",
    "# -------------\n",
    "csv_datafiles = {}\n",
    "for author_id in author_ids:\n",
    "    # get the correct assay\n",
    "    assay = exp_assays[author_id]\n",
    "\n",
    "    REPLACEMENTS['ASSAY_ID'] = assay['data']['id']\n",
    "    REPLACEMENTS['AUTHOR_ID'] = author_id \n",
    "    REPLACEMENTS['AUTHOR_DESCRIPTION'] = '{} Description'.format(author_id)\n",
    "    REPLACEMENTS['TITLE'] = \"CSV ({})\".format(author_id)\n",
    "\n",
    "    # create the metadata\n",
    "    REPLACEMENTS['CONTENT_TYPE'] = \"text/csv\"\n",
    "    df_file = \"./pkdb/json/caffeine_data_file.json\"\n",
    "    url = base_url + \"data_files\"\n",
    "    json_data = init_json_data(df_file)\n",
    "    r = requests.post(url, headers=headers, data=json_data)\n",
    "    datafile = print_response(r.text)\n",
    "    csv_datafiles[author_id] = datafile\n",
    "\n",
    "    # second, add the file (PUT)\n",
    "    # THIS IS NOT WORKING, GETTING 404s\n",
    "    \n",
    "\n",
    "    filepath = './pkdb/files/data/{}.csv'.format(author_id)\n",
    "    url = datafile['data']['attributes']['content_blobs'][0]['link']  # content_blobs array size = 1\n",
    "    print(url)\n",
    "    r = requests.put(url, headers=file_upload_headers, files={\"file\": open(filepath, 'rb')})\n",
    "    print(\"Response Status:\", r)\n",
    "    print('-'*80)"
   ]
  },
  {
   "cell_type": "code",
   "execution_count": 96,
   "metadata": {},
   "outputs": [
    {
     "name": "stdout",
     "output_type": "stream",
     "text": [
      "Returned successfully posted object: <432>\n",
      "http://seek.lisym.org/data_files/432/content_blobs/867\n",
      "Response Status: <Response [404]>\n",
      "--------------------------------------------------------------------------------\n",
      "Returned successfully posted object: <433>\n",
      "http://seek.lisym.org/data_files/433/content_blobs/868\n",
      "Response Status: <Response [404]>\n",
      "--------------------------------------------------------------------------------\n",
      "Returned successfully posted object: <434>\n",
      "http://seek.lisym.org/data_files/434/content_blobs/869\n",
      "Response Status: <Response [404]>\n",
      "--------------------------------------------------------------------------------\n",
      "Returned successfully posted object: <435>\n",
      "http://seek.lisym.org/data_files/435/content_blobs/870\n",
      "Response Status: <Response [404]>\n",
      "--------------------------------------------------------------------------------\n",
      "Returned successfully posted object: <436>\n",
      "http://seek.lisym.org/data_files/436/content_blobs/871\n",
      "Response Status: <Response [404]>\n",
      "--------------------------------------------------------------------------------\n",
      "Returned successfully posted object: <437>\n",
      "http://seek.lisym.org/data_files/437/content_blobs/872\n",
      "Response Status: <Response [404]>\n",
      "--------------------------------------------------------------------------------\n",
      "Returned successfully posted object: <438>\n",
      "http://seek.lisym.org/data_files/438/content_blobs/873\n",
      "Response Status: <Response [404]>\n",
      "--------------------------------------------------------------------------------\n",
      "Returned successfully posted object: <439>\n",
      "http://seek.lisym.org/data_files/439/content_blobs/874\n",
      "Response Status: <Response [404]>\n",
      "--------------------------------------------------------------------------------\n",
      "Returned successfully posted object: <440>\n",
      "http://seek.lisym.org/data_files/440/content_blobs/875\n",
      "Response Status: <Response [404]>\n",
      "--------------------------------------------------------------------------------\n",
      "Returned successfully posted object: <441>\n",
      "http://seek.lisym.org/data_files/441/content_blobs/876\n",
      "Response Status: <Response [404]>\n",
      "--------------------------------------------------------------------------------\n",
      "Returned successfully posted object: <442>\n",
      "http://seek.lisym.org/data_files/442/content_blobs/877\n",
      "Response Status: <Response [404]>\n",
      "--------------------------------------------------------------------------------\n",
      "Returned successfully posted object: <443>\n",
      "http://seek.lisym.org/data_files/443/content_blobs/878\n",
      "Response Status: <Response [404]>\n",
      "--------------------------------------------------------------------------------\n",
      "Returned successfully posted object: <444>\n",
      "http://seek.lisym.org/data_files/444/content_blobs/879\n",
      "Response Status: <Response [404]>\n",
      "--------------------------------------------------------------------------------\n",
      "Returned successfully posted object: <445>\n",
      "http://seek.lisym.org/data_files/445/content_blobs/880\n",
      "Response Status: <Response [404]>\n",
      "--------------------------------------------------------------------------------\n"
     ]
    }
   ],
   "source": [
    "# -------------\n",
    "# PNG\n",
    "# -------------\n",
    "png_datafiles = {}\n",
    "for author_id in author_ids:\n",
    "    # get the correct assay\n",
    "    assay = exp_assays[author_id]\n",
    "\n",
    "    REPLACEMENTS['ASSAY_ID'] = assay['data']['id']\n",
    "    REPLACEMENTS['AUTHOR_ID'] = author_id \n",
    "    REPLACEMENTS['AUTHOR_DESCRIPTION'] = '{} Description'.format(author_id)\n",
    "    REPLACEMENTS['TITLE'] = \"PNG ({})\".format(author_id)\n",
    "\n",
    "    # create the metadata\n",
    "    REPLACEMENTS['CONTENT_TYPE'] = \"application/png\"\n",
    "    df_file = \"./pkdb/json/caffeine_data_file.json\"\n",
    "    url = base_url + \"data_files\"\n",
    "    json_data = init_json_data(df_file)\n",
    "    r = requests.post(url, headers=headers, data=json_data)\n",
    "    datafile = print_response(r.text)\n",
    "    png_datafiles[author_id] = datafile\n",
    "\n",
    "    # second, add the file (PUT)\n",
    "    # THIS IS NOT WORKING, GETTING 404s\n",
    "    filepath = './pkdb/files/data/{}.png'.format(author_id)\n",
    "    url = datafile['data']['attributes']['content_blobs'][0]['link']  # content_blobs array size = 1\n",
    "    print(url)\n",
    "    r = requests.put(url, headers=file_upload_headers, files={\"file\": open(filepath, 'rb')})\n",
    "    print(\"Response Status:\", r)\n",
    "    print('-'*80)"
   ]
  },
  {
   "cell_type": "markdown",
   "metadata": {},
   "source": [
    "# Cleanup SEEK"
   ]
  },
  {
   "cell_type": "code",
   "execution_count": 91,
   "metadata": {},
   "outputs": [
    {
     "name": "stdout",
     "output_type": "stream",
     "text": [
      "Returned successfully posted object: <->\n",
      "Returned successfully posted object: <->\n",
      "Returned successfully posted object: <->\n",
      "Returned successfully posted object: <->\n",
      "Returned successfully posted object: <->\n",
      "Returned successfully posted object: <->\n",
      "Returned successfully posted object: <->\n",
      "Returned successfully posted object: <->\n",
      "Returned successfully posted object: <->\n",
      "Returned successfully posted object: <->\n",
      "Returned successfully posted object: <->\n",
      "Returned successfully posted object: <->\n",
      "Returned successfully posted object: <->\n",
      "Returned successfully posted object: <->\n",
      "Returned successfully posted object: <->\n",
      "Returned successfully posted object: <->\n",
      "Returned successfully posted object: <->\n",
      "Returned successfully posted object: <->\n",
      "Returned successfully posted object: <->\n",
      "Returned successfully posted object: <->\n",
      "Returned successfully posted object: <->\n",
      "Returned successfully posted object: <->\n",
      "Returned successfully posted object: <->\n",
      "Returned successfully posted object: <->\n",
      "Returned successfully posted object: <->\n",
      "Returned successfully posted object: <->\n",
      "Returned successfully posted object: <->\n",
      "Returned successfully posted object: <->\n"
     ]
    }
   ],
   "source": [
    "# delete datafiles (csv)\n",
    "for datafile in csv_datafiles.values():\n",
    "    datafile_id = datafile['data']['id']\n",
    "    print(url)\n",
    "    url = base_url + \"data_files/{}.json\".format(datafile_id)\n",
    "    r = requests.delete(url, headers=headers)\n",
    "    print_response(r.text)\n",
    "    \n",
    "# delete datafiles (png)\n",
    "for datafile in png_datafiles.values():\n",
    "    datafile_id = datafile['data']['id']\n",
    "    print(url)\n",
    "    url = base_url + \"data_files/{}.json\".format(datafile_id)\n",
    "    r = requests.delete(url, headers=headers)\n",
    "    print_response(r.text)"
   ]
  },
  {
   "cell_type": "code",
   "execution_count": 92,
   "metadata": {},
   "outputs": [
    {
     "name": "stdout",
     "output_type": "stream",
     "text": [
      "https://seekbeta.lisym.org/assays/104.json\n",
      "Returned successfully posted object: <->\n",
      "https://seekbeta.lisym.org/assays/105.json\n",
      "Returned successfully posted object: <->\n",
      "https://seekbeta.lisym.org/assays/106.json\n",
      "Returned successfully posted object: <->\n",
      "https://seekbeta.lisym.org/assays/107.json\n",
      "Returned successfully posted object: <->\n",
      "https://seekbeta.lisym.org/assays/108.json\n",
      "Returned successfully posted object: <->\n",
      "https://seekbeta.lisym.org/assays/109.json\n",
      "Returned successfully posted object: <->\n",
      "https://seekbeta.lisym.org/assays/110.json\n",
      "Returned successfully posted object: <->\n",
      "https://seekbeta.lisym.org/assays/111.json\n",
      "Returned successfully posted object: <->\n",
      "https://seekbeta.lisym.org/assays/112.json\n",
      "Returned successfully posted object: <->\n",
      "https://seekbeta.lisym.org/assays/113.json\n",
      "Returned successfully posted object: <->\n",
      "https://seekbeta.lisym.org/assays/114.json\n",
      "Returned successfully posted object: <->\n",
      "https://seekbeta.lisym.org/assays/115.json\n",
      "Returned successfully posted object: <->\n",
      "https://seekbeta.lisym.org/assays/116.json\n",
      "Returned successfully posted object: <->\n",
      "https://seekbeta.lisym.org/assays/117.json\n",
      "Returned successfully posted object: <->\n"
     ]
    }
   ],
   "source": [
    "# delete experimental assays\n",
    "for assay in exp_assays.values():\n",
    "    assay_id = assay['data']['id']\n",
    "    url = base_url + \"assays/{}.json\".format(assay_id)\n",
    "    print(url)\n",
    "    r = requests.delete(url, headers=headers)\n",
    "    print_response(r.text)  "
   ]
  },
  {
   "cell_type": "code",
   "execution_count": null,
   "metadata": {},
   "outputs": [],
   "source": [
    "# delete study\n",
    "study_id = study['data']['id']\n",
    "url = base_url + \"studies/{}.json\".format(study_id)\n",
    "print(url)\n",
    "r = requests.delete(url, headers=headers)\n",
    "print_response(r.text)"
   ]
  }
 ],
 "metadata": {
  "kernelspec": {
   "display_name": "seek",
   "language": "python",
   "name": "seek"
  },
  "language_info": {
   "codemirror_mode": {
    "name": "ipython",
    "version": 3
   },
   "file_extension": ".py",
   "mimetype": "text/x-python",
   "name": "python",
   "nbconvert_exporter": "python",
   "pygments_lexer": "ipython3",
   "version": "3.5.2"
  }
 },
 "nbformat": 4,
 "nbformat_minor": 2
}
