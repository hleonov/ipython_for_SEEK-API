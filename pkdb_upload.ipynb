{
 "cells": [
  {
   "cell_type": "markdown",
   "metadata": {},
   "source": [
    "# Pharmacokinetics Database in SEEK\n",
    "Upload of file assets to seek via the write/read API. Experimental data sets have been digitized from literature. The respective files are now made available via LiSyM-SEEK.\n",
    "\n",
    "<img src=\"./data_extraction.png\" width=\"500\"/>\n",
    "\n",
    "Proof-of-principle by **Matthias König, Hadas Leonov & Wolfgang Müller** "
   ]
  },
  {
   "cell_type": "code",
   "execution_count": 38,
   "metadata": {},
   "outputs": [],
   "source": [
    "# important ids (seekbeta.lisym.org)\n",
    "REPLACEMENTS = {\n",
    "    'KOENIG_ID': \"17\",\n",
    "    'PROJECT_ID': \"10\",  # MM-PLF\n",
    "    'INVESTIGATION_ID': \"17\",\n",
    "    'HOMO_SAPIENS': \"950657990\",\n",
    "}"
   ]
  },
  {
   "cell_type": "code",
   "execution_count": 39,
   "metadata": {
    "collapsed": false
   },
   "outputs": [],
   "source": [
    "import requests\n",
    "import json\n",
    "import string\n",
    "from pprint import pprint\n",
    "# base_url = 'http://localhost:3000/'\n",
    "base_url = 'https://seekbeta.lisym.org/'\n",
    "\n",
    "API_TOKEN = open(\"./token\").readline().strip() #\"user:password\" encoded in base64\n",
    "headers = {\"Authorization\": \"Basic %s\" %API_TOKEN,\n",
    "           \"Content-type\": \"application/vnd.api+json\",\n",
    "           \"Accept\": \"application/vnd.api+json\"}\n",
    "file_upload_headers = headers.copy()\n",
    "file_upload_headers.pop('Content-type');"
   ]
  },
  {
   "cell_type": "code",
   "execution_count": 84,
   "metadata": {
    "collapsed": true
   },
   "outputs": [],
   "source": [
    "def print_response(response_text, info=False):\n",
    "    if (r.ok):\n",
    "        obj = json.loads(response_text)\n",
    "        try: \n",
    "            seek_id = obj['data']['id']\n",
    "        except:\n",
    "            seek_id = '-'\n",
    "        print(\"Returned successfully posted object: <{}>\".format(seek_id))\n",
    "        if info:\n",
    "            pprint(obj)\n",
    "        return obj\n",
    "    else:\n",
    "        print(\"Error: \", r.text)\n",
    "    return None"
   ]
  },
  {
   "cell_type": "code",
   "execution_count": 41,
   "metadata": {
    "collapsed": false
   },
   "outputs": [],
   "source": [
    "def init_json_data(file, replacements=REPLACEMENTS):\n",
    "    json_format = json.load(open(file))\n",
    "    json_data = json.dumps(json_format)\n",
    "    for key, value in replacements.items():\n",
    "        json_data = str.replace(json_data, key, value)\n",
    "    return json_data"
   ]
  },
  {
   "cell_type": "markdown",
   "metadata": {},
   "source": [
    "### Post caffeine study\n",
    "The investigation and project already exist and can be referenced via their respective ids. Now we create a new study for the caffeine data."
   ]
  },
  {
   "cell_type": "code",
   "execution_count": 42,
   "metadata": {
    "collapsed": false
   },
   "outputs": [
    {
     "name": "stdout",
     "output_type": "stream",
     "text": [
      "--------------------------------------------------------------------------------\n",
      "{'data': {'attributes': {'description': 'Pharmacokinetics data set for '\n",
      "                                        'caffeine',\n",
      "                         'experimentalists': '',\n",
      "                         'other_creators': '',\n",
      "                         'person_responsible_id': '17',\n",
      "                         'policy': {'access': 'view',\n",
      "                                    'permissions': [{'access': 'download',\n",
      "                                                     'resource_id': '10',\n",
      "                                                     'resource_type': 'projects'}]},\n",
      "                         'title': 'PKDB Caffeine Study'},\n",
      "          'relationships': {'creators': {'data': [{'id': '17',\n",
      "                                                   'type': 'people'}]},\n",
      "                            'investigation': {'data': {'id': '17',\n",
      "                                                       'type': 'investigations'}},\n",
      "                            'publications': {'data': []}},\n",
      "          'type': 'studies'}}\n",
      "--------------------------------------------------------------------------------\n",
      "Returned successfully posted object:\n",
      " {'jsonapi': {'version': '1.0'}, 'data': {'id': '47', 'attributes': {'policy': {'permissions': [{'resource_id': '10', 'resource_type': 'projects', 'access': 'download'}], 'access': 'view'}, 'description': 'Pharmacokinetics data set for caffeine', 'other_creators': None, 'experimentalists': None, 'person_responsible_id': '17', 'title': 'PKDB Caffeine Study'}, 'meta': {'base_url': 'http://seek.lisym.org', 'api_version': '0.1', 'modified': '2018-04-30T09:35:49.366Z', 'created': '2018-04-30T09:35:49.229Z', 'uuid': 'ca522a80-2e87-0136-ce3e-0242ac120005'}, 'links': {'self': '/studies/47'}, 'type': 'studies', 'relationships': {'projects': {'data': [{'id': '10', 'type': 'projects'}]}, 'assays': {'data': []}, 'publications': {'data': []}, 'people': {'data': [{'id': '17', 'type': 'people'}]}, 'submitter': {'data': [{'id': '17', 'type': 'people'}]}, 'documents': {'data': []}, 'data_files': {'data': []}, 'models': {'data': []}, 'investigation': {'data': {'id': '17', 'type': 'investigations'}}, 'sops': {'data': []}, 'creators': {'data': [{'id': '17', 'type': 'people'}]}}}}\n"
     ]
    }
   ],
   "source": [
    "study_file = \"./pkdb/json/caffeine_study.json\"\n",
    "url = base_url + \"studies\"\n",
    "json_data = init_json_data(study_file, replacements=REPLACEMENTS)\n",
    "# pprint(json_data)\n",
    "print('-'*80)\n",
    "pprint(json.loads(json_data))\n",
    "print('-'*80)\n",
    "r = requests.post(url, headers=headers, data=json_data)\n",
    "study = print_response(r.text)"
   ]
  },
  {
   "cell_type": "code",
   "execution_count": 43,
   "metadata": {},
   "outputs": [],
   "source": [
    "# store study id for assays\n",
    "REPLACEMENTS['STUDY_ID'] = study['data']['id']"
   ]
  },
  {
   "cell_type": "markdown",
   "metadata": {},
   "source": [
    "### Experimental assays & Data files\n",
    "Every digitized publication is handled as a separate experimental assay.\n",
    "\n",
    "The corresponding data files (CSV data) are associated as data file to the assay."
   ]
  },
  {
   "cell_type": "code",
   "execution_count": 93,
   "metadata": {},
   "outputs": [
    {
     "name": "stdout",
     "output_type": "stream",
     "text": [
      "{'Akinyinka2000',\n",
      " 'Amchin1999',\n",
      " 'Blanchard1983a',\n",
      " 'Haller2002',\n",
      " 'Healy1991',\n",
      " 'Hetzler1990',\n",
      " 'Jeppesen1996',\n",
      " 'Kakuda2014',\n",
      " 'Kaplan1997',\n",
      " 'Magnusson2008',\n",
      " 'Oh2012',\n",
      " 'Perera2011',\n",
      " 'Spigset1999a',\n",
      " 'Tanaka2014'}\n"
     ]
    }
   ],
   "source": [
    "from os import listdir\n",
    "from os.path import isfile, join\n",
    "data_dir = './pkdb/files/data'\n",
    "files = [f for f in listdir(data_dir) if isfile(join(data_dir, f))]\n",
    "author_ids = set([fname[:-4] for fname in files if fname.endswith('.csv')])\n",
    "pprint(author_ids)"
   ]
  },
  {
   "cell_type": "code",
   "execution_count": 94,
   "metadata": {
    "collapsed": false
   },
   "outputs": [
    {
     "name": "stdout",
     "output_type": "stream",
     "text": [
      "Returned successfully posted object: <118>\n",
      "Returned successfully posted object: <119>\n",
      "Returned successfully posted object: <120>\n",
      "Returned successfully posted object: <121>\n",
      "Returned successfully posted object: <122>\n",
      "Returned successfully posted object: <123>\n",
      "Returned successfully posted object: <124>\n",
      "Returned successfully posted object: <125>\n",
      "Returned successfully posted object: <126>\n",
      "Returned successfully posted object: <127>\n",
      "Returned successfully posted object: <128>\n",
      "Returned successfully posted object: <129>\n",
      "Returned successfully posted object: <130>\n",
      "Returned successfully posted object: <131>\n"
     ]
    }
   ],
   "source": [
    "# create all\n",
    "exp_assays = {}\n",
    "for author_id in author_ids:\n",
    "    REPLACEMENTS['AUTHOR_ID'] = author_id \n",
    "    REPLACEMENTS['AUTHOR_DESCRIPTION'] = '{} Description'.format(author_id)\n",
    "\n",
    "    assay_file = \"./pkdb/json/caffeine_exp_assay.json\"\n",
    "    url = base_url + \"assays\"\n",
    "    json_data = init_json_data(assay_file)\n",
    "    r = requests.post(url, headers=headers, data=json_data)\n",
    "    assay = print_response(r.text)\n",
    "    exp_assays[author_id] = assay"
   ]
  },
  {
   "cell_type": "code",
   "execution_count": 109,
   "metadata": {
    "collapsed": false
   },
   "outputs": [
    {
     "name": "stdout",
     "output_type": "stream",
     "text": [
      "Returned successfully posted object: <518>\n",
      "https://seekbeta.lisym.org/data_files/518/content_blobs/953\n",
      "Response Status: <Response [200]>\n",
      "--------------------------------------------------------------------------------\n",
      "Returned successfully posted object: <519>\n",
      "https://seekbeta.lisym.org/data_files/519/content_blobs/954\n",
      "Response Status: <Response [200]>\n",
      "--------------------------------------------------------------------------------\n",
      "Returned successfully posted object: <520>\n",
      "https://seekbeta.lisym.org/data_files/520/content_blobs/955\n",
      "Response Status: <Response [200]>\n",
      "--------------------------------------------------------------------------------\n",
      "Returned successfully posted object: <521>\n",
      "https://seekbeta.lisym.org/data_files/521/content_blobs/956\n",
      "Response Status: <Response [200]>\n",
      "--------------------------------------------------------------------------------\n",
      "Returned successfully posted object: <522>\n",
      "https://seekbeta.lisym.org/data_files/522/content_blobs/957\n",
      "Response Status: <Response [200]>\n",
      "--------------------------------------------------------------------------------\n",
      "Returned successfully posted object: <523>\n",
      "https://seekbeta.lisym.org/data_files/523/content_blobs/958\n",
      "Response Status: <Response [200]>\n",
      "--------------------------------------------------------------------------------\n",
      "Returned successfully posted object: <524>\n",
      "https://seekbeta.lisym.org/data_files/524/content_blobs/959\n",
      "Response Status: <Response [200]>\n",
      "--------------------------------------------------------------------------------\n",
      "Returned successfully posted object: <525>\n",
      "https://seekbeta.lisym.org/data_files/525/content_blobs/960\n",
      "Response Status: <Response [200]>\n",
      "--------------------------------------------------------------------------------\n",
      "Returned successfully posted object: <526>\n",
      "https://seekbeta.lisym.org/data_files/526/content_blobs/961\n",
      "Response Status: <Response [200]>\n",
      "--------------------------------------------------------------------------------\n",
      "Returned successfully posted object: <527>\n",
      "https://seekbeta.lisym.org/data_files/527/content_blobs/962\n",
      "Response Status: <Response [200]>\n",
      "--------------------------------------------------------------------------------\n",
      "Returned successfully posted object: <528>\n",
      "https://seekbeta.lisym.org/data_files/528/content_blobs/963\n",
      "Response Status: <Response [200]>\n",
      "--------------------------------------------------------------------------------\n",
      "Returned successfully posted object: <529>\n",
      "https://seekbeta.lisym.org/data_files/529/content_blobs/964\n",
      "Response Status: <Response [200]>\n",
      "--------------------------------------------------------------------------------\n",
      "Returned successfully posted object: <530>\n",
      "https://seekbeta.lisym.org/data_files/530/content_blobs/965\n",
      "Response Status: <Response [200]>\n",
      "--------------------------------------------------------------------------------\n",
      "Returned successfully posted object: <531>\n",
      "https://seekbeta.lisym.org/data_files/531/content_blobs/966\n",
      "Response Status: <Response [200]>\n",
      "--------------------------------------------------------------------------------\n"
     ]
    }
   ],
   "source": [
    "# -------------\n",
    "# CSV\n",
    "# -------------\n",
    "csv_datafiles = {}\n",
    "for author_id in author_ids:\n",
    "    # get the correct assay\n",
    "    assay = exp_assays[author_id]\n",
    "\n",
    "    REPLACEMENTS['ASSAY_ID'] = assay['data']['id']\n",
    "    REPLACEMENTS['AUTHOR_ID'] = author_id \n",
    "    REPLACEMENTS['AUTHOR_DESCRIPTION'] = '{} Description'.format(author_id)\n",
    "    REPLACEMENTS['FILENAME'] = '{}.csv'.format(author_id)\n",
    "    REPLACEMENTS['CONTENT_TYPE'] = 'text/csv'\n",
    "    REPLACEMENTS['TITLE'] = \"CSV ({})\".format(author_id)\n",
    "\n",
    "    # create the metadata\n",
    "    REPLACEMENTS['CONTENT_TYPE'] = \"text/csv\"\n",
    "    df_file = \"./pkdb/json/caffeine_data_file.json\"\n",
    "    url = base_url + \"data_files\"\n",
    "    json_data = init_json_data(df_file)\n",
    "    r = requests.post(url, headers=headers, data=json_data)\n",
    "    datafile = print_response(r.text)\n",
    "    csv_datafiles[author_id] = datafile\n",
    "\n",
    "    # second, add the file (PUT)\n",
    "    # THIS IS NOT WORKING, GETTING 404s\n",
    "    \n",
    "    filepath = './pkdb/files/data/{}.csv'.format(author_id)\n",
    "    url = datafile['data']['attributes']['content_blobs'][0]['link']  # content_blobs array size = 1\n",
    "    # bugfix for incorrect prefix\n",
    "    url = url.replace('http://seek', 'https://seekbeta')\n",
    "    print(url)\n",
    "    r = requests.put(url, headers=file_upload_headers, files={\"file\": open(filepath, 'rb')})\n",
    "    print(\"Response Status:\", r)\n",
    "    print('-'*80)"
   ]
  },
  {
   "cell_type": "code",
   "execution_count": 110,
   "metadata": {},
   "outputs": [
    {
     "name": "stdout",
     "output_type": "stream",
     "text": [
      "Returned successfully posted object: <532>\n",
      "https://seekbeta.lisym.org/data_files/532/content_blobs/967\n",
      "Response Status: <Response [200]>\n",
      "--------------------------------------------------------------------------------\n",
      "Returned successfully posted object: <533>\n",
      "https://seekbeta.lisym.org/data_files/533/content_blobs/968\n",
      "Response Status: <Response [200]>\n",
      "--------------------------------------------------------------------------------\n",
      "Returned successfully posted object: <534>\n",
      "https://seekbeta.lisym.org/data_files/534/content_blobs/969\n",
      "Response Status: <Response [200]>\n",
      "--------------------------------------------------------------------------------\n",
      "Returned successfully posted object: <535>\n",
      "https://seekbeta.lisym.org/data_files/535/content_blobs/970\n",
      "Response Status: <Response [200]>\n",
      "--------------------------------------------------------------------------------\n",
      "Returned successfully posted object: <536>\n",
      "https://seekbeta.lisym.org/data_files/536/content_blobs/971\n",
      "Response Status: <Response [200]>\n",
      "--------------------------------------------------------------------------------\n",
      "Returned successfully posted object: <537>\n",
      "https://seekbeta.lisym.org/data_files/537/content_blobs/972\n",
      "Response Status: <Response [200]>\n",
      "--------------------------------------------------------------------------------\n",
      "Returned successfully posted object: <538>\n",
      "https://seekbeta.lisym.org/data_files/538/content_blobs/973\n",
      "Response Status: <Response [200]>\n",
      "--------------------------------------------------------------------------------\n",
      "Returned successfully posted object: <539>\n",
      "https://seekbeta.lisym.org/data_files/539/content_blobs/974\n",
      "Response Status: <Response [200]>\n",
      "--------------------------------------------------------------------------------\n",
      "Returned successfully posted object: <540>\n",
      "https://seekbeta.lisym.org/data_files/540/content_blobs/975\n",
      "Response Status: <Response [200]>\n",
      "--------------------------------------------------------------------------------\n",
      "Returned successfully posted object: <541>\n",
      "https://seekbeta.lisym.org/data_files/541/content_blobs/976\n",
      "Response Status: <Response [200]>\n",
      "--------------------------------------------------------------------------------\n",
      "Returned successfully posted object: <542>\n",
      "https://seekbeta.lisym.org/data_files/542/content_blobs/977\n",
      "Response Status: <Response [200]>\n",
      "--------------------------------------------------------------------------------\n",
      "Returned successfully posted object: <543>\n",
      "https://seekbeta.lisym.org/data_files/543/content_blobs/978\n",
      "Response Status: <Response [200]>\n",
      "--------------------------------------------------------------------------------\n",
      "Returned successfully posted object: <544>\n",
      "https://seekbeta.lisym.org/data_files/544/content_blobs/979\n",
      "Response Status: <Response [200]>\n",
      "--------------------------------------------------------------------------------\n",
      "Returned successfully posted object: <545>\n",
      "https://seekbeta.lisym.org/data_files/545/content_blobs/980\n",
      "Response Status: <Response [200]>\n",
      "--------------------------------------------------------------------------------\n"
     ]
    }
   ],
   "source": [
    "# -------------\n",
    "# PNG\n",
    "# -------------\n",
    "png_datafiles = {}\n",
    "for author_id in author_ids:\n",
    "    # get the correct assay\n",
    "    assay = exp_assays[author_id]\n",
    "\n",
    "    REPLACEMENTS['ASSAY_ID'] = assay['data']['id']\n",
    "    REPLACEMENTS['AUTHOR_ID'] = author_id \n",
    "    REPLACEMENTS['AUTHOR_DESCRIPTION'] = '{} Description'.format(author_id)\n",
    "    REPLACEMENTS['FILENAME'] = '{}.png'.format(author_id)\n",
    "    REPLACEMENTS['CONTENT_TYPE'] = 'image/png'\n",
    "    REPLACEMENTS['TITLE'] = \"PNG ({})\".format(author_id)\n",
    "\n",
    "    # create the metadata\n",
    "    REPLACEMENTS['CONTENT_TYPE'] = \"application/png\"\n",
    "    df_file = \"./pkdb/json/caffeine_data_file.json\"\n",
    "    url = base_url + \"data_files\"\n",
    "    json_data = init_json_data(df_file)\n",
    "    r = requests.post(url, headers=headers, data=json_data)\n",
    "    datafile = print_response(r.text)\n",
    "    png_datafiles[author_id] = datafile\n",
    "\n",
    "    # second, add the file (PUT)\n",
    "    # THIS IS NOT WORKING, GETTING 404s\n",
    "    filepath = './pkdb/files/data/{}.png'.format(author_id)\n",
    "    url = datafile['data']['attributes']['content_blobs'][0]['link']  # content_blobs array size = 1\n",
    "    # bugfix for incorrect prefix\n",
    "    url = url.replace('http://seek', 'https://seekbeta')\n",
    "    print(url)\n",
    "    r = requests.put(url, headers=file_upload_headers, files={\"file\": open(filepath, 'rb')})\n",
    "    print(\"Response Status:\", r)\n",
    "    print('-'*80)"
   ]
  },
  {
   "cell_type": "markdown",
   "metadata": {},
   "source": [
    "# Cleanup SEEK"
   ]
  },
  {
   "cell_type": "code",
   "execution_count": 108,
   "metadata": {},
   "outputs": [
    {
     "name": "stdout",
     "output_type": "stream",
     "text": [
      "https://seekbeta.lisym.org/data_files/517/content_blobs/952\n",
      "Returned successfully posted object: <->\n",
      "https://seekbeta.lisym.org/data_files/490.json\n",
      "Returned successfully posted object: <->\n",
      "https://seekbeta.lisym.org/data_files/491.json\n",
      "Returned successfully posted object: <->\n",
      "https://seekbeta.lisym.org/data_files/492.json\n",
      "Returned successfully posted object: <->\n",
      "https://seekbeta.lisym.org/data_files/493.json\n",
      "Returned successfully posted object: <->\n",
      "https://seekbeta.lisym.org/data_files/494.json\n",
      "Returned successfully posted object: <->\n",
      "https://seekbeta.lisym.org/data_files/495.json\n",
      "Returned successfully posted object: <->\n",
      "https://seekbeta.lisym.org/data_files/496.json\n",
      "Returned successfully posted object: <->\n",
      "https://seekbeta.lisym.org/data_files/497.json\n",
      "Returned successfully posted object: <->\n",
      "https://seekbeta.lisym.org/data_files/498.json\n",
      "Returned successfully posted object: <->\n",
      "https://seekbeta.lisym.org/data_files/499.json\n",
      "Returned successfully posted object: <->\n",
      "https://seekbeta.lisym.org/data_files/500.json\n",
      "Returned successfully posted object: <->\n",
      "https://seekbeta.lisym.org/data_files/501.json\n",
      "Returned successfully posted object: <->\n",
      "https://seekbeta.lisym.org/data_files/502.json\n",
      "Returned successfully posted object: <->\n",
      "https://seekbeta.lisym.org/data_files/503.json\n",
      "Returned successfully posted object: <->\n",
      "https://seekbeta.lisym.org/data_files/504.json\n",
      "Returned successfully posted object: <->\n",
      "https://seekbeta.lisym.org/data_files/505.json\n",
      "Returned successfully posted object: <->\n",
      "https://seekbeta.lisym.org/data_files/506.json\n",
      "Returned successfully posted object: <->\n",
      "https://seekbeta.lisym.org/data_files/507.json\n",
      "Returned successfully posted object: <->\n",
      "https://seekbeta.lisym.org/data_files/508.json\n",
      "Returned successfully posted object: <->\n",
      "https://seekbeta.lisym.org/data_files/509.json\n",
      "Returned successfully posted object: <->\n",
      "https://seekbeta.lisym.org/data_files/510.json\n",
      "Returned successfully posted object: <->\n",
      "https://seekbeta.lisym.org/data_files/511.json\n",
      "Returned successfully posted object: <->\n",
      "https://seekbeta.lisym.org/data_files/512.json\n",
      "Returned successfully posted object: <->\n",
      "https://seekbeta.lisym.org/data_files/513.json\n",
      "Returned successfully posted object: <->\n",
      "https://seekbeta.lisym.org/data_files/514.json\n",
      "Returned successfully posted object: <->\n",
      "https://seekbeta.lisym.org/data_files/515.json\n",
      "Returned successfully posted object: <->\n",
      "https://seekbeta.lisym.org/data_files/516.json\n",
      "Returned successfully posted object: <->\n"
     ]
    }
   ],
   "source": [
    "# delete datafiles (csv)\n",
    "for datafile in csv_datafiles.values():\n",
    "    datafile_id = datafile['data']['id']\n",
    "    print(url)\n",
    "    url = base_url + \"data_files/{}.json\".format(datafile_id)\n",
    "    r = requests.delete(url, headers=headers)\n",
    "    print_response(r.text)\n",
    "\n",
    "# delete datafiles (png)\n",
    "for datafile in png_datafiles.values():\n",
    "    datafile_id = datafile['data']['id']\n",
    "    print(url)\n",
    "    url = base_url + \"data_files/{}.json\".format(datafile_id)\n",
    "    r = requests.delete(url, headers=headers)\n",
    "    print_response(r.text)"
   ]
  },
  {
   "cell_type": "code",
   "execution_count": 100,
   "metadata": {},
   "outputs": [
    {
     "name": "stdout",
     "output_type": "stream",
     "text": [
      "Returned successfully posted object: <->\n",
      "Returned successfully posted object: <->\n",
      "Returned successfully posted object: <->\n",
      "Returned successfully posted object: <->\n",
      "Returned successfully posted object: <->\n",
      "Returned successfully posted object: <->\n",
      "Returned successfully posted object: <->\n",
      "Returned successfully posted object: <->\n",
      "Returned successfully posted object: <->\n",
      "Returned successfully posted object: <->\n",
      "Returned successfully posted object: <->\n",
      "Returned successfully posted object: <->\n",
      "Returned successfully posted object: <->\n",
      "Returned successfully posted object: <->\n"
     ]
    }
   ],
   "source": [
    "for id in range(418, 432):\n",
    "    url = base_url + \"data_files/{}.json\".format(id)\n",
    "    r = requests.delete(url, headers=headers)\n",
    "    print_response(r.text)"
   ]
  },
  {
   "cell_type": "code",
   "execution_count": 92,
   "metadata": {},
   "outputs": [
    {
     "name": "stdout",
     "output_type": "stream",
     "text": [
      "https://seekbeta.lisym.org/assays/104.json\n",
      "Returned successfully posted object: <->\n",
      "https://seekbeta.lisym.org/assays/105.json\n",
      "Returned successfully posted object: <->\n",
      "https://seekbeta.lisym.org/assays/106.json\n",
      "Returned successfully posted object: <->\n",
      "https://seekbeta.lisym.org/assays/107.json\n",
      "Returned successfully posted object: <->\n",
      "https://seekbeta.lisym.org/assays/108.json\n",
      "Returned successfully posted object: <->\n",
      "https://seekbeta.lisym.org/assays/109.json\n",
      "Returned successfully posted object: <->\n",
      "https://seekbeta.lisym.org/assays/110.json\n",
      "Returned successfully posted object: <->\n",
      "https://seekbeta.lisym.org/assays/111.json\n",
      "Returned successfully posted object: <->\n",
      "https://seekbeta.lisym.org/assays/112.json\n",
      "Returned successfully posted object: <->\n",
      "https://seekbeta.lisym.org/assays/113.json\n",
      "Returned successfully posted object: <->\n",
      "https://seekbeta.lisym.org/assays/114.json\n",
      "Returned successfully posted object: <->\n",
      "https://seekbeta.lisym.org/assays/115.json\n",
      "Returned successfully posted object: <->\n",
      "https://seekbeta.lisym.org/assays/116.json\n",
      "Returned successfully posted object: <->\n",
      "https://seekbeta.lisym.org/assays/117.json\n",
      "Returned successfully posted object: <->\n"
     ]
    }
   ],
   "source": [
    "# delete experimental assays\n",
    "for assay in exp_assays.values():\n",
    "    assay_id = assay['data']['id']\n",
    "    url = base_url + \"assays/{}.json\".format(assay_id)\n",
    "    print(url)\n",
    "    r = requests.delete(url, headers=headers)\n",
    "    print_response(r.text)  "
   ]
  },
  {
   "cell_type": "code",
   "execution_count": null,
   "metadata": {},
   "outputs": [],
   "source": [
    "# delete study\n",
    "study_id = study['data']['id']\n",
    "url = base_url + \"studies/{}.json\".format(study_id)\n",
    "print(url)\n",
    "r = requests.delete(url, headers=headers)\n",
    "print_response(r.text)"
   ]
  }
 ],
 "metadata": {
  "kernelspec": {
   "display_name": "seek",
   "language": "python",
   "name": "seek"
  },
  "language_info": {
   "codemirror_mode": {
    "name": "ipython",
    "version": 3
   },
   "file_extension": ".py",
   "mimetype": "text/x-python",
   "name": "python",
   "nbconvert_exporter": "python",
   "pygments_lexer": "ipython3",
   "version": "3.5.2"
  }
 },
 "nbformat": 4,
 "nbformat_minor": 2
}
