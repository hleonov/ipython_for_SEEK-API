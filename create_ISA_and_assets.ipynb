{
 "cells": [
  {
   "cell_type": "code",
   "execution_count": null,
   "metadata": {
    "collapsed": false
   },
   "outputs": [],
   "source": [
    "import requests\n",
    "import json\n",
    "import string\n",
    "base_url = 'http://localhost:3000/'\n",
    "#base_url = 'https://seekbeta.lisym.org/'\n",
    "\n",
    "API_TOKEN = open(\"./files/token\").readline().strip() #\"user:password\" encoded in base64\n",
    "headers = {\"Authorization\": \"Basic %s\" %API_TOKEN,\n",
    "           \"Content-type\": \"application/json\",\n",
    "           \"Accept\": \"application/json\"}\n",
    "file_upload_headers = headers.copy()\n",
    "file_upload_headers.pop('Content-type');"
   ]
  },
  {
   "cell_type": "code",
   "execution_count": null,
   "metadata": {
    "collapsed": true
   },
   "outputs": [],
   "source": [
    "def print_response(response_text):\n",
    "    if (r.ok):\n",
    "        obj = json.loads(response_text)\n",
    "        print(\"Returned successfully posted object:\\n\",obj)\n",
    "        return obj\n",
    "    else:\n",
    "        print(\"Error: \",r.text)\n",
    "    return None"
   ]
  },
  {
   "cell_type": "code",
   "execution_count": null,
   "metadata": {
    "collapsed": false
   },
   "outputs": [],
   "source": [
    "def init_json_data(file, title=None):\n",
    "    json_format = json.load(open(file))\n",
    "    if (title is not None):\n",
    "        json_format['data']['attributes']['title'] = title\n",
    "    json_data = json.dumps(json_format)\n",
    "    return json_data"
   ]
  },
  {
   "cell_type": "code",
   "execution_count": null,
   "metadata": {
    "collapsed": true
   },
   "outputs": [],
   "source": [
    "#delete previous projects\n",
    "#for i in range (2,7):\n",
    "#    url = base_url + \"projects/%i.json\" %i\n",
    "#    r = requests.delete(url, headers=headers)\n",
    "#delete data files\n",
    "#for i in range(7,13):\n",
    "#    url = base_url + \"data_files/%i.json\" %i\n",
    "#    r = requests.delete(url, headers=headers)"
   ]
  },
  {
   "cell_type": "markdown",
   "metadata": {},
   "source": [
    "### Post a project"
   ]
  },
  {
   "cell_type": "code",
   "execution_count": null,
   "metadata": {
    "collapsed": false
   },
   "outputs": [],
   "source": [
    "proj_file = \"./json/post_max_project.json\"\n",
    "json_data = init_json_data(proj_file, \"Project LEDA\")\n",
    "url = base_url + \"projects\"\n",
    "print(json_data)\n",
    "r = requests.post(url, headers=headers, data=json_data)\n",
    "proj = print_response(r.text)"
   ]
  },
  {
   "cell_type": "markdown",
   "metadata": {},
   "source": [
    "### Make current user a member of the created project - currently needs to be done manually?! "
   ]
  },
  {
   "cell_type": "markdown",
   "metadata": {},
   "source": [
    "### Post an Investigation based on the posted project"
   ]
  },
  {
   "cell_type": "code",
   "execution_count": null,
   "metadata": {
    "collapsed": false
   },
   "outputs": [],
   "source": [
    "inv_file = \"./json/post_max_investigation.json\"\n",
    "url = base_url + \"investigations\"\n",
    "json_data = init_json_data(inv_file, \"API test Investigation\")\n",
    "json_data = str.replace(json_data, \"PROJECT_ID\", proj['data']['id'])\n",
    "r = requests.post(url, headers=headers, data=json_data)\n",
    "inv = print_response(r.text)"
   ]
  },
  {
   "cell_type": "markdown",
   "metadata": {},
   "source": [
    "### Post a Study based on the Investigation "
   ]
  },
  {
   "cell_type": "code",
   "execution_count": null,
   "metadata": {
    "collapsed": false
   },
   "outputs": [],
   "source": [
    "study_file = \"./json/post_max_study.json\"\n",
    "url = base_url + \"studies\"\n",
    "json_data = init_json_data(study_file, \"API test Study\" )\n",
    "json_data = str.replace(json_data, \"PROJECT_ID\", proj['data']['id'])\n",
    "json_data = str.replace(json_data, \"INV_ID\", inv['data']['id'])\n",
    "r = requests.post(url, headers=headers, data=json_data)\n",
    "study = print_response(r.text)"
   ]
  },
  {
   "cell_type": "markdown",
   "metadata": {},
   "source": [
    "### Post an Experimental Assay based on the Study"
   ]
  },
  {
   "cell_type": "code",
   "execution_count": null,
   "metadata": {
    "collapsed": false
   },
   "outputs": [],
   "source": [
    "assay_file = \"./json/post_max_assay.json\"\n",
    "url = base_url + \"assays\"\n",
    "json_data = init_json_data(assay_file, \"API Corrected Experimental assay\")\n",
    "json_data = str.replace(json_data, \"PROJECT_ID\", proj['data']['id'])\n",
    "json_data = str.replace(json_data, \"STUDY_ID\", study['data']['id'])\n",
    "r = requests.post(url, headers=headers, data=json_data)\n",
    "assay = print_response(r.text)"
   ]
  },
  {
   "cell_type": "markdown",
   "metadata": {},
   "source": [
    "### Post a Data File linked to the posted Assay"
   ]
  },
  {
   "cell_type": "code",
   "execution_count": null,
   "metadata": {
    "collapsed": false
   },
   "outputs": [],
   "source": [
    "#First POST the meta-data\n",
    "df_file = \"./json/post_max_data_file.json\"\n",
    "url = base_url + \"data_files\"\n",
    "json_data = init_json_data(df_file, \"API Test Data File\")\n",
    "json_data = str.replace(json_data, \"PROJECT_ID\",proj['data']['id'])\n",
    "json_data = str.replace(json_data, \"ASSAY_ID\", assay['data']['id'])\n",
    "print(json_data)\n",
    "print(headers)\n",
    "r = requests.post(url, headers=headers, data=json_data)\n",
    "\n",
    "df = print_response(r.text) #only metadata object\n",
    "actual_file = \"./files/meltdown.pdf\"\n",
    "# #Second, add the file (PUT)\n",
    "url = df['data']['attributes']['content_blobs'][0]['link']  # content_blobs array size = 1 \n",
    "r = requests.put(url, headers=file_upload_headers, data=open(actual_file, 'rb'))\n",
    "print(\"Response Status:\",r)"
   ]
  },
  {
   "cell_type": "markdown",
   "metadata": {},
   "source": [
    "### Post an SOP linked to an Assay"
   ]
  },
  {
   "cell_type": "code",
   "execution_count": null,
   "metadata": {
    "collapsed": false
   },
   "outputs": [],
   "source": [
    "#First POST the meta-data\n",
    "sop_file = \"./json/post_max_sop.json\"\n",
    "url = base_url + \"sops\"\n",
    "json_data = init_json_data(sop_file, \"API Test SOP\")\n",
    "json_data = str.replace(json_data, \"PROJECT_ID\", proj['data']['id'])\n",
    "json_data = str.replace(json_data, \"ASSAY_ID\", assay['data']['id'])\n",
    "print(json_data)\n",
    "r = requests.post(url, headers=headers, data=json_data)\n",
    "sop = print_response(r.text)\n",
    "##Second, add the file (PUT)\n",
    "url = sop['data']['attributes']['content_blobs'][0]['link']  #only one file in an Sop \n",
    "r = requests.put(url, headers=file_upload_headers, data=open('./files/meltdown.pdf', 'rb'))\n",
    "print(\"Response Status: \",r)"
   ]
  },
  {
   "cell_type": "markdown",
   "metadata": {},
   "source": [
    "### Post a Document linked to an Assay"
   ]
  },
  {
   "cell_type": "code",
   "execution_count": null,
   "metadata": {
    "collapsed": false
   },
   "outputs": [],
   "source": [
    "#First POST the meta-data\n",
    "doc_file = \"./json/post_max_document.json\"\n",
    "url = base_url + \"documents\"\n",
    "json_data = init_json_data(doc_file, \"API Test Document\")\n",
    "json_data = str.replace(json_data, \"PROJECT_ID\", proj['data']['id'])\n",
    "json_data = str.replace(json_data, \"ASSAY_ID\", assay['data']['id'])\n",
    "r = requests.post(url, headers=headers, data=json_data)\n",
    "doc = print_response(r.text)\n",
    "#Second, add the file (PUT)\n",
    "url = doc['data']['attributes']['content_blobs'][0]['link']  #only one file in an Sop \n",
    "r = requests.put(url, headers=file_upload_headers, data=open('./files/meltdown.pdf', 'rb'))\n",
    "print(\"Response status: \", r)"
   ]
  },
  {
   "cell_type": "markdown",
   "metadata": {},
   "source": [
    "### Post a Model linked to an Assay"
   ]
  },
  {
   "cell_type": "code",
   "execution_count": null,
   "metadata": {
    "collapsed": false
   },
   "outputs": [],
   "source": [
    "#First POST the meta-data\n",
    "model_file = \"./json/post_max_model.json\"\n",
    "url = base_url + \"models\"\n",
    "json_data = init_json_data(model_file, \"API Test Model\")\n",
    "json_data = str.replace(json_data, \"PROJECT_ID\", proj['data']['id'])\n",
    "json_data = str.replace(json_data, \"ASSAY_ID\", assay['data']['id'])\n",
    "r = requests.post(url, headers=headers, data=json_data)\n",
    "mod = print_response(r.text)\n",
    "\n",
    "#Second, add the file (PUT)\n",
    "blob_url = lambda bi: mod['data']['attributes']['content_blobs'][bi]['link']\n",
    "blob_type = lambda bi: str.replace(mod['data']['attributes']['content_blobs'][bi]['content_type'], \"application/\", \"\")\n",
    "filename = lambda bi: \"./files/model_\"+str(bi+1)+\".\"+blob_type(bi)\n",
    "\n",
    "for i in range(len(mod['data']['attributes']['content_blobs'])):\n",
    "    print(\"uploading\", filename(i), \"to\", blob_url(i))\n",
    "    r = requests.put(blob_url(i), headers=file_upload_headers, data=open(filename(i), 'rb'))\n",
    "    print(\"Response Status:\", r)"
   ]
  },
  {
   "cell_type": "markdown",
   "metadata": {},
   "source": [
    "### Post a Presentation (linked to a Project)"
   ]
  },
  {
   "cell_type": "code",
   "execution_count": null,
   "metadata": {
    "collapsed": false
   },
   "outputs": [],
   "source": [
    "#First POST the meta-data\n",
    "pr_file = \"./json/post_max_presentation.json\"\n",
    "url = base_url + \"presentations\"\n",
    "json_data = init_json_data(pr_file, \"API Test Presentation\")\n",
    "json_data = str.replace(json_data, \"PROJECT_ID\", proj['data']['id'])\n",
    "r = requests.post(url, headers=headers, data=json_data)\n",
    "pr = print_response(r.text)\n",
    "#Second, add the file (PUT)\n",
    "url = pr['data']['attributes']['content_blobs'][0]['link']  #only one file in a presentation\n",
    "r = requests.put(url, headers=file_upload_headers,  data=open('./files/presentation.pdf', 'rb'))\n",
    "print(\"Response Status: \", r)"
   ]
  },
  {
   "cell_type": "markdown",
   "metadata": {},
   "source": [
    "### Post a Modeling Assay with linked Assets "
   ]
  },
  {
   "cell_type": "code",
   "execution_count": null,
   "metadata": {
    "collapsed": false
   },
   "outputs": [],
   "source": [
    "assay_file2 = \"./json/post_max_assay2.json\"\n",
    "url = base_url + \"assays\"\n",
    "json_data = init_json_data(assay_file2, \"API Test Modeling Assay with linked assets\")\n",
    "json_data = str.replace(json_data, \"PROJECT_ID\", proj['data']['id'])\n",
    "json_data = str.replace(json_data, \"STUDY_ID\", study['data']['id'])\n",
    "json_data = str.replace(json_data, \"SOP_ID\", sop['data']['id'])\n",
    "json_data = str.replace(json_data, \"MODEL_ID\", mod['data']['id'])\n",
    "json_data = str.replace(json_data, \"DOCUMENT_ID\", doc['data']['id'])\n",
    "json_data = str.replace(json_data, \"DATAFILE_ID\", df['data']['id'])\n",
    "\n",
    "r = requests.post(url, headers=headers, data=json_data)\n",
    "assay2 = print_response(r.text)"
   ]
  },
  {
   "cell_type": "markdown",
   "metadata": {},
   "source": [
    "### Post a DataFile with remote content (URL) --> similar for other assets"
   ]
  },
  {
   "cell_type": "code",
   "execution_count": null,
   "metadata": {
    "collapsed": false
   },
   "outputs": [],
   "source": [
    "df_file = \"./json/post_remote_data_file.json\"\n",
    "url = base_url + \"data_files\"\n",
    "json_data = init_json_data(df_file, \"API remote Data File\")\n",
    "json_data = str.replace(json_data, \"PROJECT_ID\", proj['data']['id'])\n",
    "json_data = str.replace(json_data, \"ASSAY_ID\", assay['data']['id'])\n",
    "r = requests.post(url, headers=headers, data=json_data)\n",
    "\n",
    "remote_df = print_response(r.text) "
   ]
  },
  {
   "cell_type": "markdown",
   "metadata": {},
   "source": [
    "### Post a Model with remote content"
   ]
  },
  {
   "cell_type": "code",
   "execution_count": null,
   "metadata": {
    "collapsed": false
   },
   "outputs": [],
   "source": [
    "model_file = \"./json/post_remote_model.json\"\n",
    "url = base_url + \"models\"\n",
    "json_data = init_json_data(model_file, \"API remote model example\")\n",
    "json_data = str.replace(json_data, \"PROJECT_ID\", proj['data']['id'])\n",
    "r = requests.post(url, headers=headers, data=json_data)\n",
    "\n",
    "remote_model = print_response(r.text) "
   ]
  },
  {
   "cell_type": "code",
   "execution_count": null,
   "metadata": {
    "collapsed": true
   },
   "outputs": [],
   "source": []
  }
 ],
 "metadata": {
  "kernelspec": {
   "display_name": "Python 3",
   "language": "python",
   "name": "python3"
  },
  "language_info": {
   "codemirror_mode": {
    "name": "ipython",
    "version": 3
   },
   "file_extension": ".py",
   "mimetype": "text/x-python",
   "name": "python",
   "nbconvert_exporter": "python",
   "pygments_lexer": "ipython3",
   "version": "3.6.4"
  }
 },
 "nbformat": 4,
 "nbformat_minor": 2
}
