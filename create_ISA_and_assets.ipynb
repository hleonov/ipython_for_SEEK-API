{
 "cells": [
  {
   "cell_type": "code",
   "execution_count": 1,
   "metadata": {
    "collapsed": false
   },
   "outputs": [],
   "source": [
    "import requests\n",
    "import json\n",
    "import string\n",
    "base_url = 'http://localhost:3000/'\n",
    "API_TOKEN = open(\"./files/token\").readline().strip() #\"user:password\" encoded in base64\n",
    "headers = {\"Authorization\": \"Basic %s\" %API_TOKEN,\n",
    "           \"Content-type\": \"application/vnd.api+json\",\n",
    "           \"Accept\": \"application/vnd.api+json\"}\n",
    "file_upload_headers = headers.copy()\n",
    "file_upload_headers.pop('Content-type');"
   ]
  },
  {
   "cell_type": "code",
   "execution_count": 2,
   "metadata": {
    "collapsed": true
   },
   "outputs": [],
   "source": [
    "def print_response(response_text):\n",
    "    if (r.ok):\n",
    "        obj = json.loads(response_text)\n",
    "        print(\"Returned successfully posted object:\\n\",obj)\n",
    "        return obj\n",
    "    else:\n",
    "        print(\"Error: \",r.text)\n",
    "    return None"
   ]
  },
  {
   "cell_type": "code",
   "execution_count": 3,
   "metadata": {
    "collapsed": false
   },
   "outputs": [],
   "source": [
    "def init_json_data(file, title=None):\n",
    "    json_format = json.load(open(file))\n",
    "    if (title is not None):\n",
    "        json_format['data']['attributes']['title'] = title\n",
    "    json_data = json.dumps(json_format)\n",
    "    return json_data"
   ]
  },
  {
   "cell_type": "code",
   "execution_count": 4,
   "metadata": {
    "collapsed": true
   },
   "outputs": [],
   "source": [
    "#delete previous projects\n",
    "#for i in range (2,7):\n",
    "#    url = base_url + \"projects/%i.json\" %i\n",
    "#    r = requests.delete(url, headers=headers)\n",
    "#delete data files\n",
    "#for i in range(7,13):\n",
    "#    url = base_url + \"data_files/%i.json\" %i\n",
    "#    r = requests.delete(url, headers=headers)"
   ]
  },
  {
   "cell_type": "markdown",
   "metadata": {},
   "source": [
    "### Post a project"
   ]
  },
  {
   "cell_type": "code",
   "execution_count": 5,
   "metadata": {
    "collapsed": false
   },
   "outputs": [
    {
     "name": "stdout",
     "output_type": "stream",
     "text": [
      "Returned successfully posted object:\n",
      " {'data': {'id': '10', 'type': 'projects', 'attributes': {'avatar': None, 'title': 'Project LEDA/DYAD', 'description': 'example project for the API', 'web_page': 'http://www.lisym.org', 'wiki_page': 'http://www.h-its.org', 'default_license': 'Other (Open)', 'default_policy': {'access': 'view', 'permissions': [{'resource_type': 'people', 'resource_id': '1', 'access': 'manage'}, {'resource_type': 'projects', 'resource_id': '1', 'access': 'download'}, {'resource_type': 'institutions', 'resource_id': '1', 'access': 'view'}]}}, 'relationships': {'organisms': {'data': [{'id': '548322508', 'type': 'organisms'}]}, 'people': {'data': []}, 'institutions': {'data': []}, 'programmes': {'data': []}, 'investigations': {'data': []}, 'studies': {'data': []}, 'assays': {'data': []}, 'data_files': {'data': []}, 'models': {'data': []}, 'sops': {'data': []}, 'publications': {'data': []}, 'presentations': {'data': []}, 'events': {'data': []}, 'documents': {'data': []}}, 'links': {'self': '/projects/10'}, 'meta': {'created': '2018-04-13T08:57:56.849Z', 'modified': '2018-04-13T08:57:56.849Z', 'api_version': '0.1', 'uuid': 'aebff790-2126-0136-9643-745c89ac8d09', 'base_url': 'http://localhost:3000'}}, 'jsonapi': {'version': '1.0'}}\n"
     ]
    }
   ],
   "source": [
    "proj_file = \"./json/post_max_project.json\"\n",
    "json_data = init_json_data(proj_file, \"Project LEDA/DYAD\")\n",
    "url = base_url + \"projects\"\n",
    "r = requests.post(url, headers=headers, data=json_data)\n",
    "proj = print_response(r.text)"
   ]
  },
  {
   "cell_type": "markdown",
   "metadata": {},
   "source": [
    "### Post an Investigation based on the posted project"
   ]
  },
  {
   "cell_type": "code",
   "execution_count": 6,
   "metadata": {
    "collapsed": false
   },
   "outputs": [
    {
     "name": "stdout",
     "output_type": "stream",
     "text": [
      "Returned successfully posted object:\n",
      " {'data': {'id': '8', 'type': 'investigations', 'attributes': {'policy': {'access': 'download', 'permissions': [{'resource_type': 'projects', 'resource_id': '10', 'access': 'manage'}]}, 'title': 'API test Investigation', 'description': 'This is a complex investigation', 'other_creators': 'John Smith'}, 'relationships': {'creators': {'data': [{'id': '1', 'type': 'people'}, {'id': '2', 'type': 'people'}]}, 'submitter': {'data': [{'id': '1', 'type': 'people'}]}, 'people': {'data': [{'id': '1', 'type': 'people'}, {'id': '2', 'type': 'people'}]}, 'projects': {'data': [{'id': '10', 'type': 'projects'}]}, 'studies': {'data': []}, 'assays': {'data': []}, 'data_files': {'data': []}, 'models': {'data': []}, 'sops': {'data': []}, 'publications': {'data': [{'id': '1', 'type': 'publications'}]}, 'documents': {'data': []}}, 'links': {'self': '/investigations/8'}, 'meta': {'created': '2018-04-13T08:58:01.683Z', 'modified': '2018-04-13T08:58:02.091Z', 'api_version': '0.1', 'uuid': 'b1b8c710-2126-0136-9643-745c89ac8d09', 'base_url': 'http://localhost:3000'}}, 'jsonapi': {'version': '1.0'}}\n"
     ]
    }
   ],
   "source": [
    "inv_file = \"./json/post_max_investigation.json\"\n",
    "url = base_url + \"investigations\"\n",
    "json_data = init_json_data(inv_file, \"API test Investigation\")\n",
    "json_data = str.replace(json_data, \"PROJECT_ID\", proj['data']['id'])\n",
    "r = requests.post(url, headers=headers, data=json_data)\n",
    "inv = print_response(r.text)"
   ]
  },
  {
   "cell_type": "markdown",
   "metadata": {},
   "source": [
    "### Post a Study based on the Investigation "
   ]
  },
  {
   "cell_type": "code",
   "execution_count": 7,
   "metadata": {
    "collapsed": false
   },
   "outputs": [
    {
     "name": "stdout",
     "output_type": "stream",
     "text": [
      "Returned successfully posted object:\n",
      " {'data': {'id': '5', 'type': 'studies', 'attributes': {'policy': {'access': 'view', 'permissions': [{'resource_type': 'projects', 'resource_id': '10', 'access': 'download'}]}, 'title': 'API test Study', 'description': 'The Study of many things', 'experimentalists': 'Wet lab people', 'other_creators': 'An unregistered person', 'person_responsible_id': '1'}, 'relationships': {'creators': {'data': [{'id': '1', 'type': 'people'}]}, 'submitter': {'data': [{'id': '1', 'type': 'people'}]}, 'people': {'data': [{'id': '1', 'type': 'people'}]}, 'projects': {'data': [{'id': '10', 'type': 'projects'}]}, 'investigation': {'data': {'id': '8', 'type': 'investigations'}}, 'assays': {'data': []}, 'data_files': {'data': []}, 'models': {'data': []}, 'sops': {'data': []}, 'publications': {'data': [{'id': '1', 'type': 'publications'}]}, 'documents': {'data': []}}, 'links': {'self': '/studies/5'}, 'meta': {'created': '2018-04-13T08:58:05.472Z', 'modified': '2018-04-13T08:58:05.809Z', 'api_version': '0.1', 'uuid': 'b3fd1100-2126-0136-9643-745c89ac8d09', 'base_url': 'http://localhost:3000'}}, 'jsonapi': {'version': '1.0'}}\n"
     ]
    }
   ],
   "source": [
    "study_file = \"./json/post_max_study.json\"\n",
    "url = base_url + \"studies\"\n",
    "json_data = init_json_data(study_file, \"API test Study\" )\n",
    "json_data = str.replace(json_data, \"PROJECT_ID\", proj['data']['id'])\n",
    "json_data = str.replace(json_data, \"INV_ID\", inv['data']['id'])\n",
    "r = requests.post(url, headers=headers, data=json_data)\n",
    "study = print_response(r.text)"
   ]
  },
  {
   "cell_type": "markdown",
   "metadata": {},
   "source": [
    "### Post an Experimental Assay based on the Study"
   ]
  },
  {
   "cell_type": "code",
   "execution_count": 8,
   "metadata": {
    "collapsed": false
   },
   "outputs": [
    {
     "name": "stdout",
     "output_type": "stream",
     "text": [
      "Returned successfully posted object:\n",
      " {'data': {'id': '14', 'type': 'assays', 'attributes': {'policy': {'access': 'download', 'permissions': [{'resource_type': 'projects', 'resource_id': '10', 'access': 'manage'}]}, 'title': 'API Corrected Experimental assay', 'description': 'A Northern Blot Assay', 'other_creators': 'Anonymous creator', 'assay_class': {'title': 'Experimental assay', 'key': 'EXP', 'description': None}, 'assay_type': {'label': None, 'uri': 'http://www.mygrid.org.uk/ontology/JERMOntology#Transcriptomics'}, 'technology_type': {'label': None, 'uri': 'http://www.mygrid.org.uk/ontology/JERMOntology#RNA-Seq'}, 'tags': ['Assay-tag1', 'Assay-tag2', 'Assay-tag3']}, 'relationships': {'creators': {'data': [{'id': '2', 'type': 'people'}]}, 'submitter': {'data': [{'id': '1', 'type': 'people'}]}, 'organisms': {'data': [{'id': '548322508', 'type': 'organisms'}]}, 'people': {'data': [{'id': '1', 'type': 'people'}, {'id': '2', 'type': 'people'}]}, 'projects': {'data': [{'id': '10', 'type': 'projects'}]}, 'investigation': {'data': {'id': '8', 'type': 'investigations'}}, 'study': {'data': {'id': '5', 'type': 'studies'}}, 'data_files': {'data': []}, 'models': {'data': []}, 'sops': {'data': []}, 'publications': {'data': [{'id': '1', 'type': 'publications'}]}, 'documents': {'data': []}}, 'links': {'self': '/assays/14'}, 'meta': {'created': '2018-04-13T08:58:08.661Z', 'modified': '2018-04-13T08:58:09.116Z', 'api_version': '0.1', 'uuid': 'b5e368b0-2126-0136-9643-745c89ac8d09', 'base_url': 'http://localhost:3000'}}, 'jsonapi': {'version': '1.0'}}\n"
     ]
    }
   ],
   "source": [
    "assay_file = \"./json/post_max_assay.json\"\n",
    "url = base_url + \"assays\"\n",
    "json_data = init_json_data(assay_file, \"API Corrected Experimental assay\")\n",
    "json_data = str.replace(json_data, \"PROJECT_ID\", proj['data']['id'])\n",
    "json_data = str.replace(json_data, \"STUDY_ID\", study['data']['id'])\n",
    "r = requests.post(url, headers=headers, data=json_data)\n",
    "assay = print_response(r.text)"
   ]
  },
  {
   "cell_type": "markdown",
   "metadata": {},
   "source": [
    "### Post a Data File linked to the posted Assay"
   ]
  },
  {
   "cell_type": "code",
   "execution_count": 9,
   "metadata": {
    "collapsed": false
   },
   "outputs": [
    {
     "name": "stdout",
     "output_type": "stream",
     "text": [
      "Returned successfully posted object:\n",
      " {'data': {'id': '15', 'type': 'data_files', 'attributes': {'policy': {'access': 'download', 'permissions': [{'resource_type': 'projects', 'resource_id': '10', 'access': 'edit'}]}, 'title': 'API Test Data File', 'description': 'This is the description of the test dT file', 'license': 'CC-BY-4.0', 'latest_version': 1, 'tags': ['tag1', 'tag2'], 'versions': [{'version': 1, 'revision_comments': None, 'url': 'http://localhost:3000/data_files/15?version=1'}], 'version': 1, 'revision_comments': None, 'created_at': '2018-04-13T08:58:11.000Z', 'updated_at': '2018-04-13T08:58:11.000Z', 'content_blobs': [{'original_filename': 'a_pdf_file.pdf', 'url': None, 'md5sum': None, 'sha1sum': None, 'content_type': 'application/pdf', 'link': 'http://localhost:3000/data_files/15/content_blobs/61', 'size': None}], 'other_creators': 'John Smith, Jane Smith'}, 'relationships': {'creators': {'data': [{'id': '1', 'type': 'people'}]}, 'submitter': {'data': [{'id': '1', 'type': 'people'}]}, 'people': {'data': [{'id': '1', 'type': 'people'}]}, 'projects': {'data': [{'id': '10', 'type': 'projects'}]}, 'investigations': {'data': [{'id': '8', 'type': 'investigations'}]}, 'studies': {'data': [{'id': '5', 'type': 'studies'}]}, 'assays': {'data': [{'id': '14', 'type': 'assays'}]}, 'publications': {'data': [{'id': '1', 'type': 'publications'}]}, 'events': {'data': [{'id': '1', 'type': 'events'}]}}, 'links': {'self': '/data_files/15?version=1'}, 'meta': {'created': '2018-04-13T08:58:11.845Z', 'modified': '2018-04-13T08:58:12.390Z', 'api_version': '0.1', 'uuid': 'b7c1c440-2126-0136-9643-745c89ac8d09', 'base_url': 'http://localhost:3000'}}, 'jsonapi': {'version': '1.0'}}\n",
      "Response Status: <Response [200]>\n"
     ]
    }
   ],
   "source": [
    "#First POST the meta-data\n",
    "df_file = \"./json/post_max_data_file.json\"\n",
    "url = base_url + \"data_files\"\n",
    "json_data = init_json_data(df_file, \"API Test Data File\")\n",
    "json_data = str.replace(json_data, \"PROJECT_ID\", proj['data']['id'])\n",
    "json_data = str.replace(json_data, \"ASSAY_ID\", assay['data']['id'])\n",
    "r = requests.post(url, headers=headers, data=json_data)\n",
    "\n",
    "df = print_response(r.text) #only metadata object\n",
    "\n",
    "#Second, add the file (PUT)\n",
    "url = df['data']['attributes']['content_blobs'][0]['link']  # content_blobs array size = 1\n",
    "r = requests.put(url, headers=file_upload_headers, files={\"file\": open('./files/meltdown.pdf', 'rb')})\n",
    "print(\"Response Status:\",r)"
   ]
  },
  {
   "cell_type": "markdown",
   "metadata": {},
   "source": [
    "### Post an SOP linked to an Assay"
   ]
  },
  {
   "cell_type": "code",
   "execution_count": 10,
   "metadata": {
    "collapsed": false
   },
   "outputs": [
    {
     "name": "stdout",
     "output_type": "stream",
     "text": [
      "Returned successfully posted object:\n",
      " {'data': {'id': '6', 'type': 'sops', 'attributes': {'policy': {'access': 'download', 'permissions': [{'resource_type': 'projects', 'resource_id': '10', 'access': 'edit'}]}, 'title': 'API Test SOP', 'description': 'This is the description', 'license': 'CC-BY-4.0', 'latest_version': 1, 'tags': ['tag1', 'tag2'], 'versions': [{'version': 1, 'revision_comments': None, 'url': 'http://localhost:3000/sops/6?version=1'}], 'version': 1, 'revision_comments': None, 'created_at': '2018-04-13T08:58:18.000Z', 'updated_at': '2018-04-13T08:58:18.000Z', 'content_blobs': [{'original_filename': 'a_pdf_file.pdf', 'url': None, 'md5sum': None, 'sha1sum': None, 'content_type': 'application/pdf', 'link': 'http://localhost:3000/sops/6/content_blobs/62', 'size': None}], 'other_creators': 'John Smith, Jane Smith'}, 'relationships': {'creators': {'data': [{'id': '1', 'type': 'people'}]}, 'submitter': {'data': [{'id': '1', 'type': 'people'}]}, 'people': {'data': [{'id': '1', 'type': 'people'}]}, 'projects': {'data': [{'id': '10', 'type': 'projects'}]}, 'investigations': {'data': [{'id': '8', 'type': 'investigations'}]}, 'studies': {'data': [{'id': '5', 'type': 'studies'}]}, 'assays': {'data': [{'id': '14', 'type': 'assays'}]}, 'publications': {'data': []}}, 'links': {'self': '/sops/6?version=1'}, 'meta': {'created': '2018-04-13T08:58:18.844Z', 'modified': '2018-04-13T08:58:19.278Z', 'api_version': '0.1', 'uuid': 'bbf410e0-2126-0136-9643-745c89ac8d09', 'base_url': 'http://localhost:3000'}}, 'jsonapi': {'version': '1.0'}}\n",
      "Response Status:  <Response [200]>\n"
     ]
    }
   ],
   "source": [
    "#First POST the meta-data\n",
    "sop_file = \"./json/post_max_sop.json\"\n",
    "url = base_url + \"sops\"\n",
    "json_data = init_json_data(sop_file, \"API Test SOP\")\n",
    "json_data = str.replace(json_data, \"PROJECT_ID\", proj['data']['id'])\n",
    "json_data = str.replace(json_data, \"ASSAY_ID\", assay['data']['id'])\n",
    "r = requests.post(url, headers=headers, data=json_data)\n",
    "sop = print_response(r.text)\n",
    "#Second, add the file (PUT)\n",
    "url = sop['data']['attributes']['content_blobs'][0]['link']  #only one file in an Sop \n",
    "r = requests.put(url, headers=file_upload_headers, files={\"file\": open('./files/meltdown.pdf', 'rb')})\n",
    "print(\"Response Status: \",r)"
   ]
  },
  {
   "cell_type": "markdown",
   "metadata": {},
   "source": [
    "### Post a Document linked to an Assay"
   ]
  },
  {
   "cell_type": "code",
   "execution_count": 11,
   "metadata": {
    "collapsed": false
   },
   "outputs": [
    {
     "name": "stdout",
     "output_type": "stream",
     "text": [
      "Returned successfully posted object:\n",
      " {'data': {'id': '6', 'type': 'documents', 'attributes': {'policy': {'access': 'download', 'permissions': [{'resource_type': 'projects', 'resource_id': '10', 'access': 'edit'}]}, 'title': 'API Test Document', 'description': 'This is the description', 'license': 'CC-BY-4.0', 'latest_version': 1, 'tags': ['tag1', 'tag2'], 'versions': [{'version': 1, 'revision_comments': None, 'url': 'http://localhost:3000/documents/6?version=1'}], 'version': 1, 'revision_comments': None, 'created_at': '2018-04-13T08:58:21.000Z', 'updated_at': '2018-04-13T08:58:21.000Z', 'content_blobs': [{'original_filename': 'a_pdf_file.pdf', 'url': None, 'md5sum': None, 'sha1sum': None, 'content_type': 'application/pdf', 'link': 'http://localhost:3000/documents/6/content_blobs/63', 'size': None}], 'other_creators': 'John Smith, Jane Smith'}, 'relationships': {'creators': {'data': [{'id': '2', 'type': 'people'}]}, 'submitter': {'data': [{'id': '1', 'type': 'people'}]}, 'people': {'data': [{'id': '1', 'type': 'people'}, {'id': '2', 'type': 'people'}]}, 'projects': {'data': [{'id': '10', 'type': 'projects'}]}, 'investigations': {'data': [{'id': '8', 'type': 'investigations'}]}, 'studies': {'data': [{'id': '5', 'type': 'studies'}]}, 'assays': {'data': [{'id': '14', 'type': 'assays'}]}, 'publications': {'data': []}}, 'links': {'self': '/documents/6?version=1'}, 'meta': {'created': '2018-04-13T08:58:21.703Z', 'modified': '2018-04-13T08:58:22.108Z', 'api_version': '0.1', 'uuid': 'bda961f0-2126-0136-9643-745c89ac8d09', 'base_url': 'http://localhost:3000'}}, 'jsonapi': {'version': '1.0'}}\n",
      "Response status:  <Response [200]>\n"
     ]
    }
   ],
   "source": [
    "#First POST the meta-data\n",
    "doc_file = \"./json/post_max_document.json\"\n",
    "url = base_url + \"documents\"\n",
    "json_data = init_json_data(doc_file, \"API Test Document\")\n",
    "json_data = str.replace(json_data, \"PROJECT_ID\", proj['data']['id'])\n",
    "json_data = str.replace(json_data, \"ASSAY_ID\", assay['data']['id'])\n",
    "r = requests.post(url, headers=headers, data=json_data)\n",
    "doc = print_response(r.text)\n",
    "#Second, add the file (PUT)\n",
    "url = doc['data']['attributes']['content_blobs'][0]['link']  #only one file in an Sop \n",
    "r = requests.put(url, headers=file_upload_headers, files={\"file\": open('./files/meltdown.pdf', 'rb')})\n",
    "print(\"Response status: \", r)"
   ]
  },
  {
   "cell_type": "markdown",
   "metadata": {},
   "source": [
    "### Post a Model linked to an Assay"
   ]
  },
  {
   "cell_type": "code",
   "execution_count": 12,
   "metadata": {
    "collapsed": false
   },
   "outputs": [
    {
     "name": "stdout",
     "output_type": "stream",
     "text": [
      "Returned successfully posted object:\n",
      " {'data': {'id': '11', 'type': 'models', 'attributes': {'policy': {'access': 'download', 'permissions': [{'resource_type': 'projects', 'resource_id': '10', 'access': 'edit'}]}, 'title': 'API Test Model', 'description': 'This is the description', 'license': 'CC-BY-4.0', 'latest_version': 1, 'tags': ['tag1', 'tag2'], 'versions': [{'version': 1, 'revision_comments': None, 'url': 'http://localhost:3000/models/11?version=1'}], 'version': 1, 'revision_comments': None, 'created_at': '2018-04-13T08:58:25.000Z', 'updated_at': '2018-04-13T08:58:25.000Z', 'content_blobs': [{'original_filename': 'docs.pdf', 'url': None, 'md5sum': None, 'sha1sum': None, 'content_type': 'application/pdf', 'link': 'http://localhost:3000/models/11/content_blobs/64', 'size': None}, {'original_filename': 'docs2.pdf', 'url': None, 'md5sum': None, 'sha1sum': None, 'content_type': 'application/pdf', 'link': 'http://localhost:3000/models/11/content_blobs/65', 'size': None}, {'original_filename': 'the_model.xml', 'url': None, 'md5sum': None, 'sha1sum': None, 'content_type': 'application/xml', 'link': 'http://localhost:3000/models/11/content_blobs/66', 'size': None}], 'other_creators': 'John Smith, Jane Smith', 'model_type': 'Linear equations', 'model_format': 'SBML', 'environment': 'JWS Online'}, 'relationships': {'creators': {'data': [{'id': '1', 'type': 'people'}]}, 'submitter': {'data': [{'id': '1', 'type': 'people'}]}, 'people': {'data': [{'id': '1', 'type': 'people'}]}, 'projects': {'data': [{'id': '10', 'type': 'projects'}]}, 'investigations': {'data': [{'id': '8', 'type': 'investigations'}]}, 'studies': {'data': [{'id': '5', 'type': 'studies'}]}, 'assays': {'data': [{'id': '14', 'type': 'assays'}]}, 'publications': {'data': [{'id': '1', 'type': 'publications'}]}}, 'links': {'self': '/models/11?version=1'}, 'meta': {'created': '2018-04-13T08:58:25.581Z', 'modified': '2018-04-13T08:58:26.006Z', 'api_version': '0.1', 'uuid': 'bff527f0-2126-0136-9643-745c89ac8d09', 'base_url': 'http://localhost:3000'}}, 'jsonapi': {'version': '1.0'}}\n",
      "uploading ./files/model_1.pdf to http://localhost:3000/models/11/content_blobs/64\n",
      "Response Status: <Response [200]>\n",
      "uploading ./files/model_2.pdf to http://localhost:3000/models/11/content_blobs/65\n",
      "Response Status: <Response [200]>\n",
      "uploading ./files/model_3.xml to http://localhost:3000/models/11/content_blobs/66\n",
      "Response Status: <Response [200]>\n"
     ]
    }
   ],
   "source": [
    "#First POST the meta-data\n",
    "model_file = \"./json/post_max_model.json\"\n",
    "url = base_url + \"models\"\n",
    "json_data = init_json_data(model_file, \"API Test Model\")\n",
    "json_data = str.replace(json_data, \"PROJECT_ID\", proj['data']['id'])\n",
    "json_data = str.replace(json_data, \"ASSAY_ID\", assay['data']['id'])\n",
    "r = requests.post(url, headers=headers, data=json_data)\n",
    "mod = print_response(r.text)\n",
    "\n",
    "#Second, add the file (PUT)\n",
    "blob_url = lambda bi: mod['data']['attributes']['content_blobs'][bi]['link']\n",
    "blob_type = lambda bi: str.replace(mod['data']['attributes']['content_blobs'][bi]['content_type'], \"application/\", \"\")\n",
    "filename = lambda bi: \"./files/model_\"+str(bi+1)+\".\"+blob_type(bi)\n",
    "\n",
    "for i in range(len(mod['data']['attributes']['content_blobs'])):\n",
    "    print(\"uploading\", filename(i), \"to\", blob_url(i))\n",
    "    r = requests.put(blob_url(i), headers=file_upload_headers, files={\"file\": open(filename(i), 'rb')})\n",
    "    print(\"Response Status:\", r)"
   ]
  },
  {
   "cell_type": "markdown",
   "metadata": {},
   "source": [
    "### Post a Presentation (linked to a Project)"
   ]
  },
  {
   "cell_type": "code",
   "execution_count": 13,
   "metadata": {
    "collapsed": false
   },
   "outputs": [
    {
     "name": "stdout",
     "output_type": "stream",
     "text": [
      "Returned successfully posted object:\n",
      " {'data': {'id': '6', 'type': 'presentations', 'attributes': {'policy': {'access': 'download', 'permissions': [{'resource_type': 'projects', 'resource_id': '10', 'access': 'edit'}]}, 'title': 'API Test Presentation', 'description': 'This is the description', 'license': 'CC-BY-4.0', 'latest_version': 1, 'tags': ['tag1', 'tag2'], 'versions': [{'version': 1, 'revision_comments': None, 'url': 'http://localhost:3000/presentations/6?version=1'}], 'version': 1, 'revision_comments': None, 'created_at': '2018-04-13T08:58:28.000Z', 'updated_at': '2018-04-13T08:58:28.000Z', 'content_blobs': [{'original_filename': 'a_pdf_file.pdf', 'url': None, 'md5sum': None, 'sha1sum': None, 'content_type': 'application/pdf', 'link': 'http://localhost:3000/presentations/6/content_blobs/67', 'size': None}], 'other_creators': 'John Smith, Jane Smith'}, 'relationships': {'creators': {'data': [{'id': '3', 'type': 'people'}]}, 'submitter': {'data': [{'id': '1', 'type': 'people'}]}, 'people': {'data': [{'id': '1', 'type': 'people'}, {'id': '3', 'type': 'people'}]}, 'projects': {'data': [{'id': '10', 'type': 'projects'}]}, 'investigations': {'data': []}, 'studies': {'data': []}, 'assays': {'data': []}, 'publications': {'data': [{'id': '1', 'type': 'publications'}]}, 'events': {'data': [{'id': '1', 'type': 'events'}]}}, 'links': {'self': '/presentations/6?version=1'}, 'meta': {'created': '2018-04-13T08:58:28.840Z', 'modified': '2018-04-13T08:58:29.283Z', 'api_version': '0.1', 'uuid': 'c1e5b1b0-2126-0136-9643-745c89ac8d09', 'base_url': 'http://localhost:3000'}}, 'jsonapi': {'version': '1.0'}}\n",
      "Response Status:  <Response [200]>\n"
     ]
    }
   ],
   "source": [
    "#First POST the meta-data\n",
    "pr_file = \"./json/post_max_presentation.json\"\n",
    "url = base_url + \"presentations\"\n",
    "json_data = init_json_data(pr_file, \"API Test Presentation\")\n",
    "json_data = str.replace(json_data, \"PROJECT_ID\", proj['data']['id'])\n",
    "r = requests.post(url, headers=headers, data=json_data)\n",
    "pr = print_response(r.text)\n",
    "#Second, add the file (PUT)\n",
    "url = pr['data']['attributes']['content_blobs'][0]['link']  #only one file in a presentation\n",
    "r = requests.put(url, headers=file_upload_headers, files={\"file\": open('./files/presentation.pdf', 'rb')})\n",
    "print(\"Response Status: \", r)"
   ]
  },
  {
   "cell_type": "markdown",
   "metadata": {},
   "source": [
    "### Post a Modeling Assay with linked Assets "
   ]
  },
  {
   "cell_type": "code",
   "execution_count": 14,
   "metadata": {
    "collapsed": false
   },
   "outputs": [
    {
     "name": "stdout",
     "output_type": "stream",
     "text": [
      "Returned successfully posted object:\n",
      " {'data': {'id': '15', 'type': 'assays', 'attributes': {'policy': {'access': 'download', 'permissions': [{'resource_type': 'projects', 'resource_id': '10', 'access': 'manage'}]}, 'title': 'API Test Modeling Assay with linked assets', 'description': 'modeling analysis', 'other_creators': 'Anonymous creator', 'assay_class': {'title': 'Modelling analysis', 'key': 'MODEL', 'description': None}, 'assay_type': {'label': None, 'uri': 'http://www.mygrid.org.uk/ontology/JERMOntology#Cell_cycle'}, 'technology_type': {'label': None, 'uri': None}, 'tags': ['Assay-tag1', 'Assay-tag2', 'Assay-tag3']}, 'relationships': {'creators': {'data': [{'id': '2', 'type': 'people'}]}, 'submitter': {'data': [{'id': '1', 'type': 'people'}]}, 'organisms': {'data': [{'id': '548322508', 'type': 'organisms'}]}, 'people': {'data': [{'id': '1', 'type': 'people'}, {'id': '2', 'type': 'people'}]}, 'projects': {'data': [{'id': '10', 'type': 'projects'}]}, 'investigation': {'data': {'id': '8', 'type': 'investigations'}}, 'study': {'data': {'id': '5', 'type': 'studies'}}, 'data_files': {'data': [{'id': '15', 'type': 'data_files'}]}, 'models': {'data': [{'id': '11', 'type': 'models'}]}, 'sops': {'data': [{'id': '6', 'type': 'sops'}]}, 'publications': {'data': [{'id': '1', 'type': 'publications'}]}, 'documents': {'data': [{'id': '6', 'type': 'documents'}]}}, 'links': {'self': '/assays/15'}, 'meta': {'created': '2018-04-13T08:58:35.432Z', 'modified': '2018-04-13T08:58:35.967Z', 'api_version': '0.1', 'uuid': 'c5d835a0-2126-0136-9643-745c89ac8d09', 'base_url': 'http://localhost:3000'}}, 'jsonapi': {'version': '1.0'}}\n"
     ]
    }
   ],
   "source": [
    "assay_file2 = \"./json/post_max_assay2.json\"\n",
    "url = base_url + \"assays\"\n",
    "json_data = init_json_data(assay_file2, \"API Test Modeling Assay with linked assets\")\n",
    "json_data = str.replace(json_data, \"PROJECT_ID\", proj['data']['id'])\n",
    "json_data = str.replace(json_data, \"STUDY_ID\", study['data']['id'])\n",
    "json_data = str.replace(json_data, \"SOP_ID\", sop['data']['id'])\n",
    "json_data = str.replace(json_data, \"MODEL_ID\", mod['data']['id'])\n",
    "json_data = str.replace(json_data, \"DOCUMENT_ID\", doc['data']['id'])\n",
    "json_data = str.replace(json_data, \"DATAFILE_ID\", df['data']['id'])\n",
    "\n",
    "r = requests.post(url, headers=headers, data=json_data)\n",
    "assay2 = print_response(r.text)"
   ]
  },
  {
   "cell_type": "markdown",
   "metadata": {},
   "source": [
    "### Post a DataFile with remote content (URL) --> similar for other assets"
   ]
  },
  {
   "cell_type": "code",
   "execution_count": 15,
   "metadata": {
    "collapsed": false
   },
   "outputs": [
    {
     "name": "stdout",
     "output_type": "stream",
     "text": [
      "Returned successfully posted object:\n",
      " {'data': {'id': '16', 'type': 'data_files', 'attributes': {'policy': {'access': 'no_access', 'permissions': []}, 'title': 'API remote Data File', 'description': None, 'license': None, 'latest_version': 1, 'tags': None, 'versions': [{'version': 1, 'revision_comments': None, 'url': 'http://localhost:3000/data_files/16?version=1'}], 'version': 1, 'revision_comments': None, 'created_at': '2018-04-13T08:58:41.000Z', 'updated_at': '2018-04-13T08:58:41.000Z', 'content_blobs': [{'original_filename': 'data-example.png', 'url': 'http://seek.virtual-liver.de/data_files/1110/content_blobs/1325/download', 'md5sum': None, 'sha1sum': None, 'content_type': 'image/png', 'link': 'http://localhost:3000/data_files/16/content_blobs/68', 'size': None}], 'other_creators': None}, 'relationships': {'creators': {'data': [{'id': '1', 'type': 'people'}]}, 'submitter': {'data': [{'id': '1', 'type': 'people'}]}, 'people': {'data': [{'id': '1', 'type': 'people'}]}, 'projects': {'data': [{'id': '10', 'type': 'projects'}]}, 'investigations': {'data': [{'id': '8', 'type': 'investigations'}]}, 'studies': {'data': [{'id': '5', 'type': 'studies'}]}, 'assays': {'data': [{'id': '14', 'type': 'assays'}]}, 'publications': {'data': []}, 'events': {'data': []}}, 'links': {'self': '/data_files/16?version=1'}, 'meta': {'created': '2018-04-13T08:58:41.199Z', 'modified': '2018-04-13T08:58:41.711Z', 'api_version': '0.1', 'uuid': 'c94998a0-2126-0136-9643-745c89ac8d09', 'base_url': 'http://localhost:3000'}}, 'jsonapi': {'version': '1.0'}}\n"
     ]
    }
   ],
   "source": [
    "df_file = \"./json/post_remote_data_file.json\"\n",
    "url = base_url + \"data_files\"\n",
    "json_data = init_json_data(df_file, \"API remote Data File\")\n",
    "json_data = str.replace(json_data, \"PROJECT_ID\", proj['data']['id'])\n",
    "json_data = str.replace(json_data, \"ASSAY_ID\", assay['data']['id'])\n",
    "r = requests.post(url, headers=headers, data=json_data)\n",
    "\n",
    "remote_df = print_response(r.text) "
   ]
  },
  {
   "cell_type": "markdown",
   "metadata": {},
   "source": [
    "### Post a Model with remote content"
   ]
  },
  {
   "cell_type": "code",
   "execution_count": 16,
   "metadata": {
    "collapsed": false
   },
   "outputs": [
    {
     "name": "stdout",
     "output_type": "stream",
     "text": [
      "Returned successfully posted object:\n",
      " {'data': {'id': '12', 'type': 'models', 'attributes': {'policy': {'access': 'no_access', 'permissions': []}, 'title': 'API remote model example', 'description': None, 'license': None, 'latest_version': 1, 'tags': None, 'versions': [{'version': 1, 'revision_comments': None, 'url': 'http://localhost:3000/models/12?version=1'}], 'version': 1, 'revision_comments': None, 'created_at': '2018-04-13T08:58:44.000Z', 'updated_at': '2018-04-13T08:58:44.000Z', 'content_blobs': [{'original_filename': 'download', 'url': 'http://seek.virtual-liver.de/data_files/1110/content_blobs/1325/download', 'md5sum': None, 'sha1sum': None, 'content_type': 'image/png', 'link': 'http://localhost:3000/models/12/content_blobs/69', 'size': None}, {'original_filename': '1110.xml', 'url': 'http://seek.virtual-liver.de/data_files/1110.xml', 'md5sum': None, 'sha1sum': None, 'content_type': 'application/xml', 'link': 'http://localhost:3000/models/12/content_blobs/70', 'size': None}], 'other_creators': None, 'model_type': None, 'model_format': None, 'environment': None}, 'relationships': {'creators': {'data': [{'id': '1', 'type': 'people'}]}, 'submitter': {'data': [{'id': '1', 'type': 'people'}]}, 'people': {'data': [{'id': '1', 'type': 'people'}]}, 'projects': {'data': [{'id': '10', 'type': 'projects'}]}, 'investigations': {'data': []}, 'studies': {'data': []}, 'assays': {'data': []}, 'publications': {'data': []}}, 'links': {'self': '/models/12?version=1'}, 'meta': {'created': '2018-04-13T08:58:44.809Z', 'modified': '2018-04-13T08:58:45.027Z', 'api_version': '0.1', 'uuid': 'cb705810-2126-0136-9643-745c89ac8d09', 'base_url': 'http://localhost:3000'}}, 'jsonapi': {'version': '1.0'}}\n"
     ]
    }
   ],
   "source": [
    "model_file = \"./json/post_remote_model.json\"\n",
    "url = base_url + \"models\"\n",
    "json_data = init_json_data(model_file, \"API remote model example\")\n",
    "json_data = str.replace(json_data, \"PROJECT_ID\", proj['data']['id'])\n",
    "r = requests.post(url, headers=headers, data=json_data)\n",
    "\n",
    "remote_model = print_response(r.text) "
   ]
  },
  {
   "cell_type": "code",
   "execution_count": null,
   "metadata": {
    "collapsed": true
   },
   "outputs": [],
   "source": []
  }
 ],
 "metadata": {
  "kernelspec": {
   "display_name": "Python 3",
   "language": "python",
   "name": "python3"
  },
  "language_info": {
   "codemirror_mode": {
    "name": "ipython",
    "version": 3
   },
   "file_extension": ".py",
   "mimetype": "text/x-python",
   "name": "python",
   "nbconvert_exporter": "python",
   "pygments_lexer": "ipython3",
   "version": "3.5.2"
  }
 },
 "nbformat": 4,
 "nbformat_minor": 2
}
